{
 "cells": [
  {
   "cell_type": "markdown",
   "id": "65bdaae4",
   "metadata": {},
   "source": [
    "## Dependencies"
   ]
  },
  {
   "cell_type": "code",
   "execution_count": 1,
   "id": "7accc769",
   "metadata": {},
   "outputs": [],
   "source": [
    "import pandas as pd\n",
    "import os\n",
    "import shutil\n",
    "from DicomRTTool.ReaderWriter import DicomReaderWriter # pip install DicomRTTool\n",
    "import SimpleITK as sitk\n",
    "import numpy as np\n",
    "import matplotlib.pyplot as plt\n",
    "import seaborn as sns; sns.set_theme(color_codes=True)\n",
    "sns.set_style(\"whitegrid\", {'axes.grid' : False})"
   ]
  },
  {
   "cell_type": "markdown",
   "id": "f18c4c0f",
   "metadata": {},
   "source": [
    "## Helper functions"
   ]
  },
  {
   "cell_type": "code",
   "execution_count": 2,
   "id": "1ab52276",
   "metadata": {},
   "outputs": [],
   "source": [
    "def crop_center(img,cropx,cropy):\n",
    "    y,x = img.shape\n",
    "    startx = x//2-(cropx//2)\n",
    "    starty = y//2-(cropy//2)    \n",
    "    return img[starty:starty+cropy,startx:startx+cropx]"
   ]
  },
  {
   "cell_type": "code",
   "execution_count": 3,
   "id": "6aa5796a",
   "metadata": {},
   "outputs": [],
   "source": [
    "def z_norm(image):\n",
    "    \"\"\"\n",
    "    Standardizes voxel intensities with respect to voxel intensities all voxels in image. \n",
    "        Parameters:\n",
    "            image (np array): nxnxn array corresponding to image. \n",
    "        Returns:\n",
    "            new_image (np array): nxnxn array corresponding to image after intensity standardization. \n",
    "    \"\"\"\n",
    "    mean = np.mean(image)\n",
    "    std = np.std(image)\n",
    "    new_image = np.divide((image - mean), std)\n",
    "    return new_image"
   ]
  },
  {
   "cell_type": "code",
   "execution_count": 4,
   "id": "2f0478b2",
   "metadata": {},
   "outputs": [],
   "source": [
    "def display_slices_ss(image1, image2, skip=1):\n",
    "    \"\"\"\n",
    "    Displays a series of slices in z-direction that contains the segmented regions of interest.\n",
    "    Ensures all contours are displayed in consistent and different colors.\n",
    "        Parameters:\n",
    "            image (array-like): Numpy array of image.\n",
    "            mask (array-like): Numpy array of mask.\n",
    "            skip (int): Only print every nth slice, i.e. if 3 only print every 3rd slice, default 1.\n",
    "        Returns:\n",
    "            None (series of in-line plots).\n",
    "    \"\"\"\n",
    "\n",
    "    slice_locations = np.unique(np.where(image1 != 0)[0]) # get indexes for where there is a contour present \n",
    "    slice_start = slice_locations[0] # first slice of contour \n",
    "    slice_end = slice_locations[len(slice_locations)-1] # last slice of contour\n",
    "    \n",
    "    counter = 1\n",
    "    \n",
    "    for img_arr1, img_arr2 in zip(image1[slice_start:slice_end+1], image2[slice_start:slice_end+1]): # plot the slices with contours overlayed ontop\n",
    "        if counter % skip == 0: # if current slice is divisible by desired skip amount \n",
    "            fig, (ax1, ax2) = plt.subplots(1,2, gridspec_kw = {'wspace':0, 'hspace':0})\n",
    "            \n",
    "            img_arr1 = z_norm(img_arr1)\n",
    "            img_arr2 = z_norm(img_arr2)\n",
    "            \n",
    "            img_arr1 = crop_center(img_arr1, 350, 350)\n",
    "            img_arr2 = crop_center(img_arr2, 350, 350)\n",
    "            \n",
    "            \n",
    "            ax1.imshow(img_arr1, cmap='gray', interpolation='none', vmin = np.min(img_arr1), vmax = np.percentile(img_arr1, 99))\n",
    "            ax1.set_xticks([])\n",
    "            ax1.set_yticks([])\n",
    "            ax2.imshow(img_arr2, cmap='gray', interpolation='none', vmin = np.min(img_arr1), vmax = np.percentile(img_arr1, 99))\n",
    "            ax2.set_xticks([])\n",
    "            ax2.set_yticks([])\n",
    "            plt.show()\n",
    "        counter += 1"
   ]
  },
  {
   "cell_type": "code",
   "execution_count": 5,
   "id": "b40b2e3e",
   "metadata": {},
   "outputs": [],
   "source": [
    "# modified for file output WITH RANDOMIZATINON, ASSUMES GT IS FIRST ELEMENT, SYN IS SECOND ELEMENT\n",
    "def display_slices_ss_key(gt_image, syn_image, df_key, output_dir, MRN, skip=1):\n",
    "    \"\"\"\n",
    "    Displays a series of slices in z-direction that contains the segmented regions of interest.\n",
    "    Ensures all contours are displayed in consistent and different colors.\n",
    "        Parameters:\n",
    "            image (array-like): Numpy array of image.\n",
    "            mask (array-like): Numpy array of mask.\n",
    "            skip (int): Only print every nth slice, i.e. if 3 only print every 3rd slice, default 1.\n",
    "        Returns:\n",
    "            None (series of in-line plots).\n",
    "    \"\"\"\n",
    "\n",
    "    slice_locations = np.unique(np.where(gt_image != 0)[0]) # get indexes for where there is a contour present \n",
    "    slice_start = slice_locations[0] # first slice of contour \n",
    "    slice_end = slice_locations[len(slice_locations)-1] # last slice of contour\n",
    "    \n",
    "    counter = 1\n",
    "    \n",
    "    for gt_img_arr, syn_img_arr in zip(gt_image[slice_start:slice_end+1], syn_image[slice_start:slice_end+1]): # plot the slices with contours overlayed ontop\n",
    "        if counter % skip == 0: # if current slice is divisible by desired skip amount \n",
    "            \n",
    "            #print(counter)\n",
    "            \n",
    "            gt_img_arr_location = df_key[(df_key[\"MRN\"] == int(MRN)) & (df_key[\"Slice\"] == counter)][\"Ground-Truth Image Position\"].values[0]\n",
    "            \n",
    "            fig, (ax1, ax2) = plt.subplots(1,2, figsize = (12,8), gridspec_kw = {'wspace':0, 'hspace':0}) # remove whitespace\n",
    "            \n",
    "            gt_img_arr = z_norm(gt_img_arr)\n",
    "            syn_img_arr = z_norm(syn_img_arr)\n",
    "            \n",
    "            gt_img_arr = crop_center(gt_img_arr, 350, 350)\n",
    "            syn_img_arr = crop_center(syn_img_arr, 350, 350)\n",
    "            \n",
    "            \n",
    "            if gt_img_arr_location == \"Left\":\n",
    "                ax1.imshow(gt_img_arr, cmap='gray', interpolation='none', vmin = np.min(gt_img_arr), vmax = np.percentile(gt_img_arr, 99))\n",
    "                ax2.imshow(syn_img_arr, cmap='gray', interpolation='none', vmin = np.min(gt_img_arr), vmax = np.percentile(gt_img_arr, 99))\n",
    "            else:\n",
    "                ax1.imshow(syn_img_arr, cmap='gray', interpolation='none', vmin = np.min(gt_img_arr), vmax = np.percentile(gt_img_arr, 99))\n",
    "                ax2.imshow(gt_img_arr, cmap='gray', interpolation='none', vmin = np.min(gt_img_arr), vmax = np.percentile(gt_img_arr, 99))\n",
    "            ax1.set_xticks([])\n",
    "            ax1.set_yticks([])\n",
    "            ax2.set_xticks([])\n",
    "            ax2.set_yticks([])\n",
    "            \n",
    "            ax1.text(0.1, 0.9, 'Left', size=15, color='white', horizontalalignment='center',verticalalignment='center', transform=ax1.transAxes)\n",
    "            ax2.text(0.15, 0.9, 'Right', size=15, color='white', horizontalalignment='center',verticalalignment='center', transform=ax2.transAxes)\n",
    "            \n",
    "            plt.savefig(os.path.join(output_dir, MRN+'_slice_'+str(counter)+'.png'))\n",
    "            #plt.show()\n",
    "            plt.close()\n",
    "            \n",
    "        counter += 1"
   ]
  },
  {
   "cell_type": "markdown",
   "id": "718e95e1",
   "metadata": {},
   "source": [
    "## Turing test analysis\n",
    "\n",
    "Uses a fully anonymized key with no real patient MRNs."
   ]
  },
  {
   "cell_type": "code",
   "execution_count": 6,
   "id": "ccc1c8ef",
   "metadata": {},
   "outputs": [],
   "source": [
    "def convert_preference(row):\n",
    "    if row['Ground-Truth Image Position'] == row['I prefer']:\n",
    "        val = \"Ground-Truth\"\n",
    "    elif row['Synthetic Image Position'] == row['I prefer']:\n",
    "        val = \"Synthetic\"\n",
    "    return val"
   ]
  },
  {
   "cell_type": "code",
   "execution_count": 7,
   "id": "1a027043",
   "metadata": {},
   "outputs": [],
   "source": [
    "def convert_impression_gt(row):\n",
    "    if row['Ground-Truth Image Position'] == \"Left\" and row[\"Left image impression\"] == \"Real\":\n",
    "        val = \"Correct\"\n",
    "    elif row['Ground-Truth Image Position'] == \"Right\" and row[\"Right image impression\"] == \"Real\":\n",
    "        val = \"Correct\"\n",
    "    else:\n",
    "        val = \"Incorrect\"\n",
    "    return val"
   ]
  },
  {
   "cell_type": "code",
   "execution_count": 8,
   "id": "f4a949da",
   "metadata": {},
   "outputs": [],
   "source": [
    "def convert_impression_syn(row):\n",
    "    if row['Synthetic Image Position'] == \"Left\" and row[\"Left image impression\"] == \"AI\":\n",
    "        val = \"Correct\"\n",
    "    elif row['Synthetic Image Position'] == \"Right\" and row[\"Right image impression\"] == \"AI\":\n",
    "        val = \"Correct\"\n",
    "    else:\n",
    "        val = \"Incorrect\"\n",
    "    return val"
   ]
  },
  {
   "cell_type": "code",
   "execution_count": 9,
   "id": "36e8ce2f",
   "metadata": {},
   "outputs": [],
   "source": [
    "# loop version here \n",
    "\n",
    "df_key = pd.read_csv('Turing_test_slice_key_v2_FULLYANONYMIZED_FINAL.csv')\n",
    "subset_df = pd.read_csv('Turing_test_subset_information_withanonkey_v2_FULLYANONYMIZED_FINAL.csv')\n",
    "observer_files = [\"Turing_test_v2_obs1.xlsx\", \"Turing_test_v2_obs2.xlsx\", \"Turing_test_v2_obs3.xlsx\"]\n",
    "\n",
    "\n",
    "for n, observer_file in enumerate(observer_files):\n",
    "    observer_df = pd.read_excel(observer_file)\n",
    "    \n",
    "    anon_to_real = {row['anon_ID']: row['File_name'] for index, row in subset_df.iterrows()}\n",
    "    anon_to_ROI = {row['anon_ID']: row['ROI'] for index, row in subset_df.iterrows()}\n",
    "    \n",
    "    observer_df['File_name'] = observer_df['Anonymized_ID'].map(anon_to_real)\n",
    "    observer_df['ROI'] = observer_df['Anonymized_ID'].map(anon_to_ROI)\n",
    "    \n",
    "    real_to_gt = {str(row['MRN'])+ '_slice_'+ str(row['Slice']): row['Ground-Truth Image Position'] for index, row in df_key.iterrows()}\n",
    "    real_to_synthetic = {str(row['MRN'])+ '_slice_'+ str(row['Slice']): row['Synthetic Image Position'] for index, row in df_key.iterrows()}\n",
    "    \n",
    "    observer_df['Ground-Truth Image Position'] = observer_df['File_name'].map(real_to_gt)\n",
    "    observer_df['Synthetic Image Position'] = observer_df['File_name'].map(real_to_synthetic)\n",
    "    \n",
    "    observer_df['Preference'] = observer_df.apply(convert_preference, axis=1)\n",
    "    observer_df['Ground-Truth Impression'] = observer_df.apply(convert_impression_gt, axis=1)\n",
    "    observer_df['Synthetic Impression'] = observer_df.apply(convert_impression_syn, axis=1)\n",
    "    if n == 0:\n",
    "        main_df = observer_df.copy()\n",
    "    else:\n",
    "        main_df = pd.concat([main_df, observer_df], ignore_index = True)\n",
    "    "
   ]
  },
  {
   "cell_type": "code",
   "execution_count": 10,
   "id": "f67e98f8",
   "metadata": {},
   "outputs": [
    {
     "data": {
      "text/html": [
       "<div>\n",
       "<style scoped>\n",
       "    .dataframe tbody tr th:only-of-type {\n",
       "        vertical-align: middle;\n",
       "    }\n",
       "\n",
       "    .dataframe tbody tr th {\n",
       "        vertical-align: top;\n",
       "    }\n",
       "\n",
       "    .dataframe thead th {\n",
       "        text-align: right;\n",
       "    }\n",
       "</style>\n",
       "<table border=\"1\" class=\"dataframe\">\n",
       "  <thead>\n",
       "    <tr style=\"text-align: right;\">\n",
       "      <th></th>\n",
       "      <th>Annotator_name</th>\n",
       "      <th>Anonymized_ID</th>\n",
       "      <th>Left image impression</th>\n",
       "      <th>Right image impression</th>\n",
       "      <th>I prefer</th>\n",
       "      <th>Comments</th>\n",
       "      <th>File_name</th>\n",
       "      <th>ROI</th>\n",
       "      <th>Ground-Truth Image Position</th>\n",
       "      <th>Synthetic Image Position</th>\n",
       "      <th>Preference</th>\n",
       "      <th>Ground-Truth Impression</th>\n",
       "      <th>Synthetic Impression</th>\n",
       "    </tr>\n",
       "  </thead>\n",
       "  <tbody>\n",
       "    <tr>\n",
       "      <th>0</th>\n",
       "      <td>Observer 1</td>\n",
       "      <td>1</td>\n",
       "      <td>AI</td>\n",
       "      <td>Real</td>\n",
       "      <td>Left</td>\n",
       "      <td>Left has better margins between structures</td>\n",
       "      <td>3641355426_slice_163</td>\n",
       "      <td>Submandibular</td>\n",
       "      <td>Left</td>\n",
       "      <td>Right</td>\n",
       "      <td>Ground-Truth</td>\n",
       "      <td>Incorrect</td>\n",
       "      <td>Incorrect</td>\n",
       "    </tr>\n",
       "    <tr>\n",
       "      <th>1</th>\n",
       "      <td>Observer 1</td>\n",
       "      <td>2</td>\n",
       "      <td>AI</td>\n",
       "      <td>Real</td>\n",
       "      <td>Left</td>\n",
       "      <td>Better visualization of Rt level 2 cervical LN</td>\n",
       "      <td>3376859407_slice_120</td>\n",
       "      <td>Mandible</td>\n",
       "      <td>Left</td>\n",
       "      <td>Right</td>\n",
       "      <td>Ground-Truth</td>\n",
       "      <td>Incorrect</td>\n",
       "      <td>Incorrect</td>\n",
       "    </tr>\n",
       "    <tr>\n",
       "      <th>2</th>\n",
       "      <td>Observer 1</td>\n",
       "      <td>3</td>\n",
       "      <td>Real</td>\n",
       "      <td>AI</td>\n",
       "      <td>Right</td>\n",
       "      <td>Better visualization of tumor at BOT</td>\n",
       "      <td>3376859407_slice_122</td>\n",
       "      <td>Mandible</td>\n",
       "      <td>Left</td>\n",
       "      <td>Right</td>\n",
       "      <td>Synthetic</td>\n",
       "      <td>Correct</td>\n",
       "      <td>Correct</td>\n",
       "    </tr>\n",
       "    <tr>\n",
       "      <th>3</th>\n",
       "      <td>Observer 1</td>\n",
       "      <td>4</td>\n",
       "      <td>AI</td>\n",
       "      <td>Real</td>\n",
       "      <td>Left</td>\n",
       "      <td>NaN</td>\n",
       "      <td>2589026023_slice_133</td>\n",
       "      <td>Node</td>\n",
       "      <td>Right</td>\n",
       "      <td>Left</td>\n",
       "      <td>Synthetic</td>\n",
       "      <td>Correct</td>\n",
       "      <td>Correct</td>\n",
       "    </tr>\n",
       "    <tr>\n",
       "      <th>4</th>\n",
       "      <td>Observer 1</td>\n",
       "      <td>5</td>\n",
       "      <td>Real</td>\n",
       "      <td>AI</td>\n",
       "      <td>Left</td>\n",
       "      <td>NaN</td>\n",
       "      <td>2589026023_slice_154</td>\n",
       "      <td>Mandible</td>\n",
       "      <td>Left</td>\n",
       "      <td>Right</td>\n",
       "      <td>Ground-Truth</td>\n",
       "      <td>Correct</td>\n",
       "      <td>Correct</td>\n",
       "    </tr>\n",
       "    <tr>\n",
       "      <th>...</th>\n",
       "      <td>...</td>\n",
       "      <td>...</td>\n",
       "      <td>...</td>\n",
       "      <td>...</td>\n",
       "      <td>...</td>\n",
       "      <td>...</td>\n",
       "      <td>...</td>\n",
       "      <td>...</td>\n",
       "      <td>...</td>\n",
       "      <td>...</td>\n",
       "      <td>...</td>\n",
       "      <td>...</td>\n",
       "      <td>...</td>\n",
       "    </tr>\n",
       "    <tr>\n",
       "      <th>295</th>\n",
       "      <td>Observer 3</td>\n",
       "      <td>96</td>\n",
       "      <td>AI</td>\n",
       "      <td>Real</td>\n",
       "      <td>Right</td>\n",
       "      <td>NaN</td>\n",
       "      <td>3244262639_slice_127</td>\n",
       "      <td>Tumor</td>\n",
       "      <td>Right</td>\n",
       "      <td>Left</td>\n",
       "      <td>Ground-Truth</td>\n",
       "      <td>Correct</td>\n",
       "      <td>Correct</td>\n",
       "    </tr>\n",
       "    <tr>\n",
       "      <th>296</th>\n",
       "      <td>Observer 3</td>\n",
       "      <td>97</td>\n",
       "      <td>Real</td>\n",
       "      <td>AI</td>\n",
       "      <td>Left</td>\n",
       "      <td>NaN</td>\n",
       "      <td>3641355426_slice_154</td>\n",
       "      <td>Node</td>\n",
       "      <td>Left</td>\n",
       "      <td>Right</td>\n",
       "      <td>Ground-Truth</td>\n",
       "      <td>Correct</td>\n",
       "      <td>Correct</td>\n",
       "    </tr>\n",
       "    <tr>\n",
       "      <th>297</th>\n",
       "      <td>Observer 3</td>\n",
       "      <td>98</td>\n",
       "      <td>AI</td>\n",
       "      <td>Real</td>\n",
       "      <td>Right</td>\n",
       "      <td>pharnex not clear</td>\n",
       "      <td>2589026023_slice_134</td>\n",
       "      <td>Node</td>\n",
       "      <td>Left</td>\n",
       "      <td>Right</td>\n",
       "      <td>Synthetic</td>\n",
       "      <td>Incorrect</td>\n",
       "      <td>Incorrect</td>\n",
       "    </tr>\n",
       "    <tr>\n",
       "      <th>298</th>\n",
       "      <td>Observer 3</td>\n",
       "      <td>99</td>\n",
       "      <td>Real</td>\n",
       "      <td>AI</td>\n",
       "      <td>Left</td>\n",
       "      <td>muscles spaces and glands are not clearly lined</td>\n",
       "      <td>1389864037_slice_120</td>\n",
       "      <td>Mandible</td>\n",
       "      <td>Right</td>\n",
       "      <td>Left</td>\n",
       "      <td>Synthetic</td>\n",
       "      <td>Incorrect</td>\n",
       "      <td>Incorrect</td>\n",
       "    </tr>\n",
       "    <tr>\n",
       "      <th>299</th>\n",
       "      <td>Observer 3</td>\n",
       "      <td>100</td>\n",
       "      <td>AI</td>\n",
       "      <td>Real</td>\n",
       "      <td>Right</td>\n",
       "      <td>NaN</td>\n",
       "      <td>1389864037_slice_164</td>\n",
       "      <td>Parotid</td>\n",
       "      <td>Right</td>\n",
       "      <td>Left</td>\n",
       "      <td>Ground-Truth</td>\n",
       "      <td>Correct</td>\n",
       "      <td>Correct</td>\n",
       "    </tr>\n",
       "  </tbody>\n",
       "</table>\n",
       "<p>300 rows × 13 columns</p>\n",
       "</div>"
      ],
      "text/plain": [
       "    Annotator_name  Anonymized_ID Left image impression  \\\n",
       "0       Observer 1              1                    AI   \n",
       "1       Observer 1              2                    AI   \n",
       "2       Observer 1              3                  Real   \n",
       "3       Observer 1              4                    AI   \n",
       "4       Observer 1              5                  Real   \n",
       "..             ...            ...                   ...   \n",
       "295     Observer 3             96                    AI   \n",
       "296     Observer 3             97                  Real   \n",
       "297     Observer 3             98                    AI   \n",
       "298     Observer 3             99                  Real   \n",
       "299     Observer 3            100                    AI   \n",
       "\n",
       "    Right image impression I prefer  \\\n",
       "0                     Real     Left   \n",
       "1                     Real     Left   \n",
       "2                       AI    Right   \n",
       "3                     Real     Left   \n",
       "4                       AI     Left   \n",
       "..                     ...      ...   \n",
       "295                   Real    Right   \n",
       "296                     AI     Left   \n",
       "297                   Real    Right   \n",
       "298                     AI     Left   \n",
       "299                   Real    Right   \n",
       "\n",
       "                                            Comments             File_name  \\\n",
       "0         Left has better margins between structures  3641355426_slice_163   \n",
       "1     Better visualization of Rt level 2 cervical LN  3376859407_slice_120   \n",
       "2               Better visualization of tumor at BOT  3376859407_slice_122   \n",
       "3                                                NaN  2589026023_slice_133   \n",
       "4                                                NaN  2589026023_slice_154   \n",
       "..                                               ...                   ...   \n",
       "295                                              NaN  3244262639_slice_127   \n",
       "296                                              NaN  3641355426_slice_154   \n",
       "297                                pharnex not clear  2589026023_slice_134   \n",
       "298  muscles spaces and glands are not clearly lined  1389864037_slice_120   \n",
       "299                                              NaN  1389864037_slice_164   \n",
       "\n",
       "               ROI Ground-Truth Image Position Synthetic Image Position  \\\n",
       "0    Submandibular                        Left                    Right   \n",
       "1         Mandible                        Left                    Right   \n",
       "2         Mandible                        Left                    Right   \n",
       "3             Node                       Right                     Left   \n",
       "4         Mandible                        Left                    Right   \n",
       "..             ...                         ...                      ...   \n",
       "295          Tumor                       Right                     Left   \n",
       "296           Node                        Left                    Right   \n",
       "297           Node                        Left                    Right   \n",
       "298       Mandible                       Right                     Left   \n",
       "299        Parotid                       Right                     Left   \n",
       "\n",
       "       Preference Ground-Truth Impression Synthetic Impression  \n",
       "0    Ground-Truth               Incorrect            Incorrect  \n",
       "1    Ground-Truth               Incorrect            Incorrect  \n",
       "2       Synthetic                 Correct              Correct  \n",
       "3       Synthetic                 Correct              Correct  \n",
       "4    Ground-Truth                 Correct              Correct  \n",
       "..            ...                     ...                  ...  \n",
       "295  Ground-Truth                 Correct              Correct  \n",
       "296  Ground-Truth                 Correct              Correct  \n",
       "297     Synthetic               Incorrect            Incorrect  \n",
       "298     Synthetic               Incorrect            Incorrect  \n",
       "299  Ground-Truth                 Correct              Correct  \n",
       "\n",
       "[300 rows x 13 columns]"
      ]
     },
     "execution_count": 10,
     "metadata": {},
     "output_type": "execute_result"
    }
   ],
   "source": [
    "main_df"
   ]
  },
  {
   "cell_type": "code",
   "execution_count": 13,
   "id": "a1c50431",
   "metadata": {},
   "outputs": [],
   "source": [
    "%config InlineBackend.figure_format='retina' # for high quality plot"
   ]
  },
  {
   "cell_type": "code",
   "execution_count": 14,
   "id": "e590a26c",
   "metadata": {},
   "outputs": [
    {
     "data": {
      "image/png": "[encoded data removed]",
      "text/plain": [
       "<Figure size 1185.73x360 with 3 Axes>"
      ]
     },
     "metadata": {
      "image/png": {
       "height": 350,
       "width": 1178
      }
     },
     "output_type": "display_data"
    }
   ],
   "source": [
    "g = sns.catplot(x = \"ROI\", hue=\"Preference\", col=\"Annotator_name\", data=main_df, kind=\"count\", palette=\"Set3\", \n",
    "                hue_order = [\"Ground-Truth\", \"Synthetic\"],\n",
    "               order = [\"Node\", \"Tumor\", \"Submandibular\", \"Mandible\", \"Parotid\"]\n",
    "               )\n",
    "\n",
    "axes = g.axes.flatten()\n",
    "\n",
    "axes[0].set_title(\"Observer 1\")\n",
    "axes[1].set_title(\"Observer 2\")\n",
    "axes[2].set_title(\"Observer 3\")\n",
    "\n",
    "for ax in axes:\n",
    "    for container in ax.containers:\n",
    "        ax.bar_label(container) # https://stackoverflow.com/questions/43214978/seaborn-barplot-displaying-values"
   ]
  },
  {
   "cell_type": "markdown",
   "id": "bdd7c87f",
   "metadata": {},
   "source": [
    "## Stats"
   ]
  },
  {
   "cell_type": "code",
   "execution_count": 15,
   "id": "6e23d819",
   "metadata": {},
   "outputs": [
    {
     "name": "stderr",
     "output_type": "stream",
     "text": [
      "Unable to determine R home: [WinError 2] The system cannot find the file specified\n",
      "Unable to determine R library path: Command '('C:\\\\Program Files\\\\R\\\\R-4.1.3\\\\bin\\\\Rscript', '-e', 'cat(Sys.getenv(\"LD_LIBRARY_PATH\"))')' returned non-zero exit status 1.\n"
     ]
    }
   ],
   "source": [
    "import rpy2.robjects as robjects # conda install to access R \n",
    "from rpy2.robjects.packages import importr"
   ]
  },
  {
   "cell_type": "code",
   "execution_count": 16,
   "id": "23181402",
   "metadata": {},
   "outputs": [
    {
     "data": {
      "text/plain": [
       "rpy2.robjects.packages.Package as a <module 'TOSTER'>"
      ]
     },
     "execution_count": 16,
     "metadata": {},
     "output_type": "execute_result"
    }
   ],
   "source": [
    "importr('TOSTER') # import the R package we need"
   ]
  },
  {
   "cell_type": "code",
   "execution_count": 17,
   "id": "ed39b82f",
   "metadata": {},
   "outputs": [],
   "source": [
    "TOSTtwoprop = robjects.r[\"TOSTtwo.prop\"]"
   ]
  },
  {
   "cell_type": "code",
   "execution_count": 18,
   "id": "a89ccdf2",
   "metadata": {},
   "outputs": [
    {
     "name": "stdout",
     "output_type": "stream",
     "text": [
      "Observer 1\n",
      "TOST results:\n",
      "Z-value lower bound: 4.38 \tp-value lower bound: 0.000006\n",
      "Z-value upper bound: -4.10 \tp-value upper bound: 0.00002\n",
      "\n",
      "Equivalence bounds:\n",
      "low eqbound: -0.3 \n",
      "high eqbound: 0.3\n",
      "\n",
      "TOST confidence interval:\n",
      "lower bound 90% CI: -0.106\n",
      "upper bound 90% CI:  0.126\n",
      "\n",
      "NHST confidence interval:\n",
      "lower bound 95% CI: -0.129\n",
      "upper bound 95% CI:  0.149\n",
      "\n",
      "Equivalence Test based on Fisher's exact z-test Result:\n",
      "The equivalence test was significant, Z = -4.102, p = 0.0000205, given equivalence bounds of -0.300 and 0.300 and an alpha of 0.05."
     ]
    },
    {
     "name": "stderr",
     "output_type": "stream",
     "text": [
      "R[write to console]: \n",
      "\n"
     ]
    },
    {
     "name": "stdout",
     "output_type": "stream",
     "text": [
      "\n",
      "Null-Hypothesis Fisher's exact z-test Result:\n",
      "The null hypothesis test was non-significant, Z = 0.141, p = 0.888, given an alpha of 0.05."
     ]
    },
    {
     "name": "stderr",
     "output_type": "stream",
     "text": [
      "R[write to console]: \n",
      "\n"
     ]
    },
    {
     "name": "stdout",
     "output_type": "stream",
     "text": [
      "\n"
     ]
    },
    {
     "name": "stderr",
     "output_type": "stream",
     "text": [
      "R[write to console]: NHST: don't reject null significance hypothesis that the effect is equal to 0 \n",
      "TOST: reject null equivalence hypothesis\n",
      "\n"
     ]
    },
    {
     "name": "stdout",
     "output_type": "stream",
     "text": [
      "TOST results:\n",
      "Z-value lower bound: 6.68 \tp-value lower bound: 0.00000000001\n",
      "Z-value upper bound: -2.03 \tp-value upper bound: 0.021\n",
      "\n",
      "Equivalence bounds:\n",
      "low eqbound: -0.3 \n",
      "high eqbound: 0.3\n",
      "\n",
      "TOST confidence interval:\n",
      "lower bound 90% CI: 0.047\n",
      "upper bound 90% CI:  0.273\n",
      "\n",
      "NHST confidence interval:\n",
      "lower bound 95% CI: 0.025\n",
      "upper bound 95% CI:  0.295\n",
      "\n",
      "Equivalence Test based on Fisher's exact z-test Result:\n",
      "The equivalence test was significant, Z = -2.033, p = 0.021, given equivalence bounds of -0.300 and 0.300 and an alpha of 0.05."
     ]
    },
    {
     "name": "stderr",
     "output_type": "stream",
     "text": [
      "R[write to console]: \n",
      "\n"
     ]
    },
    {
     "name": "stdout",
     "output_type": "stream",
     "text": [
      "\n",
      "Null-Hypothesis Fisher's exact z-test Result:\n",
      "The null hypothesis test was significant, Z = 2.323, p = 0.0202, given an alpha of 0.05."
     ]
    },
    {
     "name": "stderr",
     "output_type": "stream",
     "text": [
      "R[write to console]: \n",
      "\n"
     ]
    },
    {
     "name": "stdout",
     "output_type": "stream",
     "text": [
      "\n"
     ]
    },
    {
     "name": "stderr",
     "output_type": "stream",
     "text": [
      "R[write to console]: NHST: reject null significance hypothesis\n",
      "TOST: reject null equivalence hypothesis\n",
      "\n"
     ]
    },
    {
     "name": "stdout",
     "output_type": "stream",
     "text": [
      "Observer 1 % correct =  0.51 , correct p-val =  2.051253863251527e-05 , % gt preference =  0.66 , preference p-val 0.021045582724398562\n",
      "Observer 2\n",
      "TOST results:\n",
      "Z-value lower bound: 5.11 \tp-value lower bound: 0.0000002\n",
      "Z-value upper bound: -3.41 \tp-value upper bound: 0.0003\n",
      "\n",
      "Equivalence bounds:\n",
      "low eqbound: -0.3 \n",
      "high eqbound: 0.3\n",
      "\n",
      "TOST confidence interval:\n",
      "lower bound 90% CI: -0.056\n",
      "upper bound 90% CI:  0.176\n",
      "\n",
      "NHST confidence interval:\n",
      "lower bound 95% CI: -0.078\n",
      "upper bound 95% CI:  0.198\n",
      "\n",
      "Equivalence Test based on Fisher's exact z-test Result:\n",
      "The equivalence test was significant, Z = -3.406, p = 0.000329, given equivalence bounds of -0.300 and 0.300 and an alpha of 0.05."
     ]
    },
    {
     "name": "stderr",
     "output_type": "stream",
     "text": [
      "R[write to console]: \n",
      "\n"
     ]
    },
    {
     "name": "stdout",
     "output_type": "stream",
     "text": [
      "\n",
      "Null-Hypothesis Fisher's exact z-test Result:\n",
      "The null hypothesis test was non-significant, Z = 0.852, p = 0.394, given an alpha of 0.05."
     ]
    },
    {
     "name": "stderr",
     "output_type": "stream",
     "text": [
      "R[write to console]: \n",
      "\n"
     ]
    },
    {
     "name": "stdout",
     "output_type": "stream",
     "text": [
      "\n"
     ]
    },
    {
     "name": "stderr",
     "output_type": "stream",
     "text": [
      "R[write to console]: NHST: don't reject null significance hypothesis that the effect is equal to 0 \n",
      "TOST: reject null equivalence hypothesis\n",
      "\n"
     ]
    },
    {
     "name": "stdout",
     "output_type": "stream",
     "text": [
      "TOST results:\n",
      "Z-value lower bound: 4.82 \tp-value lower bound: 0.0000007\n",
      "Z-value upper bound: -3.68 \tp-value upper bound: 0.0001\n",
      "\n",
      "Equivalence bounds:\n",
      "low eqbound: -0.3 \n",
      "high eqbound: 0.3\n",
      "\n",
      "TOST confidence interval:\n",
      "lower bound 90% CI: -0.076\n",
      "upper bound 90% CI:  0.156\n",
      "\n",
      "NHST confidence interval:\n",
      "lower bound 95% CI: -0.098\n",
      "upper bound 95% CI:  0.178\n",
      "\n",
      "Equivalence Test based on Fisher's exact z-test Result:\n",
      "The equivalence test was significant, Z = -3.683, p = 0.000115, given equivalence bounds of -0.300 and 0.300 and an alpha of 0.05."
     ]
    },
    {
     "name": "stderr",
     "output_type": "stream",
     "text": [
      "R[write to console]: \n",
      "\n"
     ]
    },
    {
     "name": "stdout",
     "output_type": "stream",
     "text": [
      "\n",
      "Null-Hypothesis Fisher's exact z-test Result:\n",
      "The null hypothesis test was non-significant, Z = 0.567, p = 0.571, given an alpha of 0.05."
     ]
    },
    {
     "name": "stderr",
     "output_type": "stream",
     "text": [
      "R[write to console]: \n",
      "\n"
     ]
    },
    {
     "name": "stdout",
     "output_type": "stream",
     "text": [
      "\n"
     ]
    },
    {
     "name": "stderr",
     "output_type": "stream",
     "text": [
      "R[write to console]: NHST: don't reject null significance hypothesis that the effect is equal to 0 \n",
      "TOST: reject null equivalence hypothesis\n",
      "\n"
     ]
    },
    {
     "name": "stdout",
     "output_type": "stream",
     "text": [
      "Observer 2 % correct =  0.56 , correct p-val =  0.0003291310299401967 , % gt preference =  0.46 , preference p-val 0.00011531928926142975\n",
      "Observer 3\n",
      "TOST results:\n",
      "Z-value lower bound: 5.56 \tp-value lower bound: 0.00000001\n",
      "Z-value upper bound: -2.99 \tp-value upper bound: 0.001\n",
      "\n",
      "Equivalence bounds:\n",
      "low eqbound: -0.3 \n",
      "high eqbound: 0.3\n",
      "\n",
      "TOST confidence interval:\n",
      "lower bound 90% CI: -0.025\n",
      "upper bound 90% CI:  0.205\n",
      "\n",
      "NHST confidence interval:\n",
      "lower bound 95% CI: -0.047\n",
      "upper bound 95% CI:  0.227\n",
      "\n",
      "Equivalence Test based on Fisher's exact z-test Result:\n",
      "The equivalence test was significant, Z = -2.994, p = 0.00138, given equivalence bounds of -0.300 and 0.300 and an alpha of 0.05."
     ]
    },
    {
     "name": "stderr",
     "output_type": "stream",
     "text": [
      "R[write to console]: \n",
      "\n"
     ]
    },
    {
     "name": "stdout",
     "output_type": "stream",
     "text": [
      "\n",
      "Null-Hypothesis Fisher's exact z-test Result:\n",
      "The null hypothesis test was non-significant, Z = 1.283, p = 0.199, given an alpha of 0.05."
     ]
    },
    {
     "name": "stderr",
     "output_type": "stream",
     "text": [
      "R[write to console]: \n",
      "\n"
     ]
    },
    {
     "name": "stdout",
     "output_type": "stream",
     "text": [
      "\n"
     ]
    },
    {
     "name": "stderr",
     "output_type": "stream",
     "text": [
      "R[write to console]: NHST: don't reject null significance hypothesis that the effect is equal to 0 \n",
      "TOST: reject null equivalence hypothesis\n",
      "\n"
     ]
    },
    {
     "name": "stdout",
     "output_type": "stream",
     "text": [
      "TOST results:\n",
      "Z-value lower bound: 5.87 \tp-value lower bound: 0.000000002\n",
      "Z-value upper bound: -2.72 \tp-value upper bound: 0.003\n",
      "\n",
      "Equivalence bounds:\n",
      "low eqbound: -0.3 \n",
      "high eqbound: 0.3\n",
      "\n",
      "TOST confidence interval:\n",
      "lower bound 90% CI: -0.005\n",
      "upper bound 90% CI:  0.225\n",
      "\n",
      "NHST confidence interval:\n",
      "lower bound 95% CI: -0.027\n",
      "upper bound 95% CI:  0.247\n",
      "\n",
      "Equivalence Test based on Fisher's exact z-test Result:\n",
      "The equivalence test was significant, Z = -2.720, p = 0.00326, given equivalence bounds of -0.300 and 0.300 and an alpha of 0.05."
     ]
    },
    {
     "name": "stderr",
     "output_type": "stream",
     "text": [
      "R[write to console]: \n",
      "\n"
     ]
    },
    {
     "name": "stdout",
     "output_type": "stream",
     "text": [
      "\n",
      "Null-Hypothesis Fisher's exact z-test Result:\n",
      "The null hypothesis test was non-significant, Z = 1.575, p = 0.115, given an alpha of 0.05."
     ]
    },
    {
     "name": "stderr",
     "output_type": "stream",
     "text": [
      "R[write to console]: \n",
      "\n"
     ]
    },
    {
     "name": "stdout",
     "output_type": "stream",
     "text": [
      "\n"
     ]
    },
    {
     "name": "stderr",
     "output_type": "stream",
     "text": [
      "R[write to console]: NHST: don't reject null significance hypothesis that the effect is equal to 0 \n",
      "TOST: reject null equivalence hypothesis\n",
      "\n"
     ]
    },
    {
     "name": "stdout",
     "output_type": "stream",
     "text": [
      "Observer 3 % correct =  0.59 , correct p-val =  0.0013758251328884678 , % gt preference =  0.61 , preference p-val 0.003262903545096047\n"
     ]
    }
   ],
   "source": [
    "observer_list = [\"Observer 1\", \"Observer 2\", \"Observer 3\"]\n",
    "\n",
    "for observer in observer_list:\n",
    "    print(observer)\n",
    "    sub_df = main_df[main_df[\"Annotator_name\"] == observer]\n",
    "    \n",
    "    prop_correct = sub_df[\"Ground-Truth Impression\"].value_counts().max()/100\n",
    "    output_correct = TOSTtwoprop(prop1 = prop_correct, prop2 = 0.50, n1 = 100, n2 = 100, low_eqbound = -0.3, high_eqbound = 0.3, plot=False)\n",
    "    p_val_correct = max(output_correct[2][0], output_correct[4][0])\n",
    "\n",
    "    gt_pref = sub_df[\"Preference\"].value_counts()[\"Ground-Truth\"]/100\n",
    "    prop_pref = sub_df[\"Preference\"].value_counts().max()/100\n",
    "    output_pref = TOSTtwoprop(prop1 = prop_pref, prop2 = 0.50, n1 = 100, n2 = 100, low_eqbound = -0.3, high_eqbound = 0.3, plot=False)\n",
    "    p_val_pref = max(output_pref[2][0], output_pref[4][0])\n",
    "    \n",
    "    print(observer, \"% correct = \", prop_correct ,\", correct p-val = \", p_val_correct, \", % gt preference = \", gt_pref, \", preference p-val\", p_val_pref)"
   ]
  },
  {
   "cell_type": "code",
   "execution_count": null,
   "id": "e0e710ad",
   "metadata": {},
   "outputs": [],
   "source": []
  },
  {
   "cell_type": "markdown",
   "id": "70c5281b",
   "metadata": {},
   "source": [
    "## Turing test file generation \n",
    "\n",
    "Code to generate files for Turing test will not be exactly the same since we used the actual MRNs in the original generation and they have been anonymized. The code below is only for documenting the process, to get the exact same output require using real MRNs which are located in Fuller shared drives. Code below is just for public distribution of code to replicate our study generally. Again, code below will not run properly without reference to the real MRNs.. "
   ]
  },
  {
   "cell_type": "code",
   "execution_count": null,
   "id": "8121e719",
   "metadata": {},
   "outputs": [],
   "source": [
    "MRN_list = [INSERT, INSERT, INSERT, INSERT, INSERT] # these are MRNs we will focus on "
   ]
  },
  {
   "cell_type": "markdown",
   "id": "f4da0b95",
   "metadata": {},
   "source": [
    "Populate dataframe with random left/right image mapping for each slice for each patient."
   ]
  },
  {
   "cell_type": "code",
   "execution_count": null,
   "id": "cf029187",
   "metadata": {},
   "outputs": [],
   "source": [
    "%%time\n",
    "\n",
    "## NEED TO EDIT THIS TO ACTUALLY ACCOUNT FOR NUMBER OF SLICES IN IMAGES, there are some that arent 227 or whatver \n",
    "\n",
    "import random\n",
    "np.random.seed(0) # set this just in case \n",
    "\n",
    "df = pd.DataFrame(columns=['MRN', 'Slice', 'Ground-Truth Image Position', 'Synthetic Image Position']) # make dataframe\n",
    "counter = -1  \n",
    "\n",
    "rand_counter = -1\n",
    "\n",
    "path = \"Final\"\n",
    "MRN_folders = os.listdir(path)\n",
    "\n",
    "for MRN_folder in MRN_folders:\n",
    "    MRN = int(MRN_folder)\n",
    "    if MRN in MRN_list:\n",
    "        print(MRN_folder)\n",
    "        MRN_folder_path = os.path.join(path, MRN_folder)\n",
    "\n",
    "        N4_path = os.path.join(MRN_folder_path, \"6min_real_N4\")\n",
    "\n",
    "        files_length = len(os.listdir(N4_path))\n",
    "        print(files_length)\n",
    "\n",
    "        for x in range(1, files_length+1):\n",
    "\n",
    "            lst = [\"Left\", \"Right\"]\n",
    "\n",
    "            rand_counter +=1 \n",
    "            random.seed(rand_counter)\n",
    "\n",
    "            gt_label = random.sample(lst,1)[0]\n",
    "            #print(gt_label)\n",
    "            lst.remove(gt_label) # remove from lsit \n",
    "            syn_label = lst[0] # gives the remainder, i.e. if label 1 is A label 2 is B\n",
    "            #print(syn_label)\n",
    "\n",
    "            counter +=1\n",
    "            df.loc[counter] = [MRN, x, gt_label, syn_label] # add to dataframe here"
   ]
  },
  {
   "cell_type": "code",
   "execution_count": null,
   "id": "d30b45d4",
   "metadata": {},
   "outputs": [],
   "source": [
    "#df.to_csv('Turing_test_slice_key.csv', index=False) # save"
   ]
  },
  {
   "cell_type": "code",
   "execution_count": null,
   "id": "c5fea656",
   "metadata": {},
   "outputs": [],
   "source": [
    "#df_key = pd.read_csv('Turing_test_slice_key_v2.csv')"
   ]
  },
  {
   "cell_type": "markdown",
   "id": "15c59fb1",
   "metadata": {},
   "source": [
    "Create paired images with labels generated above."
   ]
  },
  {
   "cell_type": "code",
   "execution_count": null,
   "id": "87bc8010",
   "metadata": {},
   "outputs": [],
   "source": [
    "%%time\n",
    "\n",
    "# loop to see all the cases NEW WITH DATAFRAME KEY VERSION\n",
    "\n",
    "path = \"nifti_output\"\n",
    "\n",
    "output_path = \"Turing_test_paired_images\"\n",
    "if not os.path.exists(output_path):\n",
    "    os.makedirs(output_path)\n",
    "\n",
    "MRN_folders = os.listdir(path)\n",
    "\n",
    "for MRN_folder in MRN_folders:\n",
    "    if int(MRN_folder) in MRN_list:\n",
    "        print(MRN_folder)        \n",
    "        \n",
    "        MRN_folder_path = os.path.join(path, MRN_folder)\n",
    "        \n",
    "        gt_image_file = os.path.join(MRN_folder_path, \"6min_real_N4_image.nii.gz\")\n",
    "        syn_image_file = os.path.join(MRN_folder_path, \"6min_synthetic_N4_image.nii.gz\")\n",
    "        \n",
    "        gt_image_sitk = sitk.ReadImage(gt_image_file)\n",
    "        syn_image_sitk = sitk.ReadImage(syn_image_file)\n",
    "\n",
    "        gt_image = sitk.GetArrayFromImage(gt_image_sitk)\n",
    "        \n",
    "        syn_image = sitk.GetArrayFromImage(syn_image_sitk)\n",
    "        \n",
    "        syn_image_norm = z_norm(syn_image)\n",
    "        gt_image_norm = z_norm(gt_image)\n",
    "        \n",
    "        #display_slices_ss_key(gt_image_norm, syn_image_norm, df_key, output_path, MRN_folder) \n",
    "\n",
    "        "
   ]
  },
  {
   "cell_type": "code",
   "execution_count": null,
   "id": "47d5dd66",
   "metadata": {},
   "outputs": [],
   "source": [
    "excel_sheet_before = \"Turing_test_subset_information.xlsx\""
   ]
  },
  {
   "cell_type": "code",
   "execution_count": null,
   "id": "7748f21e",
   "metadata": {},
   "outputs": [],
   "source": [
    "subset_df = pd.read_excel(excel_sheet_before)"
   ]
  },
  {
   "cell_type": "markdown",
   "id": "241ac6bd",
   "metadata": {},
   "source": [
    "Now can generate \"blinded\" ID mapping so physicians don't know which slices correspond to specific patients."
   ]
  },
  {
   "cell_type": "code",
   "execution_count": null,
   "id": "7cf8a97e",
   "metadata": {},
   "outputs": [],
   "source": [
    "np.random.seed(0) # set this just in case \n",
    "random.seed(0)\n",
    "\n",
    "anonymization_column_list = []\n",
    "\n",
    "number_list = list(range(1,101))\n",
    "\n",
    "for x in range(1,101):\n",
    "    anonymization_ID = random.sample(number_list,1)[0] # randomly grab one element from number list \n",
    "    anonymization_column_list.append(anonymization_ID) # add to column data\n",
    "    number_list.remove(anonymization_ID) # remove from pool of numbers to assign"
   ]
  },
  {
   "cell_type": "code",
   "execution_count": null,
   "id": "bfa4aec9",
   "metadata": {},
   "outputs": [],
   "source": [
    "subset_df['anon_ID'] = anonymization_column_list"
   ]
  },
  {
   "cell_type": "code",
   "execution_count": null,
   "id": "fcde62e8",
   "metadata": {},
   "outputs": [],
   "source": [
    "#subset_df.to_csv('Turing_test_subset_information_withanonkey.csv', index=False) # save"
   ]
  },
  {
   "cell_type": "markdown",
   "id": "dc4f622c",
   "metadata": {},
   "source": [
    "Now copy subset to new folder based on if its in the dataframe and rename."
   ]
  },
  {
   "cell_type": "code",
   "execution_count": null,
   "id": "e3b0d987",
   "metadata": {},
   "outputs": [],
   "source": [
    "output_folder = \"Turing_test_paired_images_subset\"\n",
    "\n",
    "if not os.path.exists(output_folder):\n",
    "    os.makedirs(output_folder)\n",
    "\n",
    "image_folder = \"Turing_test_paired_images\"\n",
    "images = os.listdir(image_folder)\n",
    "\n",
    "for file in images:\n",
    "    file_path = os.path.join(image_folder, file)\n",
    "    \n",
    "    file_name = file.split('.')[0]\n",
    "    \n",
    "    if file_name in subset_df['File_name'].tolist():\n",
    "        anonymized_id = str(subset_df[subset_df['File_name'] == file_name]['anon_ID'].values[0])\n",
    "        new_file_path = os.path.join(output_folder, anonymized_id+'.png')\n",
    "        #shutil.copyfile(file_path, new_file_path)\n",
    "        "
   ]
  }
 ],
 "metadata": {
  "kernelspec": {
   "display_name": "Python 3 (ipykernel)",
   "language": "python",
   "name": "python3"
  },
  "language_info": {
   "codemirror_mode": {
    "name": "ipython",
    "version": 3
   },
   "file_extension": ".py",
   "mimetype": "text/x-python",
   "name": "python",
   "nbconvert_exporter": "python",
   "pygments_lexer": "ipython3",
   "version": "3.9.7"
  }
 },
 "nbformat": 4,
 "nbformat_minor": 5
}
