{
 "cells": [
  {
   "cell_type": "markdown",
   "id": "c67559d2",
   "metadata": {},
   "source": [
    "Convert DICOM files to nifti format for easier data loading in other scripts. Note: All MRNs are anonymized. Will generate ~ 10GB of nifti files so make sure you have space locally. "
   ]
  },
  {
   "cell_type": "code",
   "execution_count": 1,
   "id": "0b4d83ec",
   "metadata": {},
   "outputs": [],
   "source": [
    "import pandas as pd\n",
    "import os\n",
    "import shutil\n",
    "from DicomRTTool.ReaderWriter import DicomReaderWriter # pip install DicomRTTool\n",
    "import SimpleITK as sitk\n",
    "import numpy as np\n",
    "import matplotlib.pyplot as plt"
   ]
  },
  {
   "cell_type": "markdown",
   "id": "90e1c5a0",
   "metadata": {},
   "source": [
    "## Convert DICOM to NIfTI"
   ]
  },
  {
   "cell_type": "code",
   "execution_count": 2,
   "id": "467e7a98",
   "metadata": {
    "scrolled": true
   },
   "outputs": [
    {
     "name": "stdout",
     "output_type": "stream",
     "text": [
      "1150757675\n",
      "2min_real\n",
      "Final\\1150757675\\2min_real\n"
     ]
    },
    {
     "name": "stderr",
     "output_type": "stream",
     "text": [
      "\r",
      "Loading through DICOM files:   0%|                                                               | 0/1 [00:00<?, ?it/s]"
     ]
    },
    {
     "name": "stdout",
     "output_type": "stream",
     "text": [
      "Loading from Final\\1150757675\\2min_real\n"
     ]
    },
    {
     "name": "stderr",
     "output_type": "stream",
     "text": [
      "Loading through DICOM files: 100%|███████████████████████████████████████████████████████| 1/1 [00:04<00:00,  4.67s/it]\n"
     ]
    },
    {
     "name": "stdout",
     "output_type": "stream",
     "text": [
      "Compiling dictionaries together...\n",
      "Index 0, description T2 3D Tra 2min at Final\\1150757675\\2min_real\n",
      "1 unique series IDs were found. Default is index 0, to change use set_index(index)\n",
      "The following ROIs were found\n",
      "brainstem\n",
      "glnd_submand_l\n",
      "glnd_submand_r\n",
      "bone_mandible\n",
      "parotid_l\n",
      "parotid_r\n",
      "spinalcord\n",
      "Loading images for T2 3D Tra 2min at \n",
      " Final\\1150757675\\2min_real\n",
      "\n",
      "6min_real\n",
      "Final\\1150757675\\6min_real\n"
     ]
    },
    {
     "name": "stderr",
     "output_type": "stream",
     "text": [
      "\r",
      "Loading through DICOM files:   0%|                                                               | 0/1 [00:00<?, ?it/s]"
     ]
    },
    {
     "name": "stdout",
     "output_type": "stream",
     "text": [
      "Loading from Final\\1150757675\\6min_real\n"
     ]
    },
    {
     "name": "stderr",
     "output_type": "stream",
     "text": [
      "Loading through DICOM files: 100%|███████████████████████████████████████████████████████| 1/1 [00:03<00:00,  3.32s/it]\n"
     ]
    },
    {
     "name": "stdout",
     "output_type": "stream",
     "text": [
      "Compiling dictionaries together...\n",
      "Index 0, description T2 3D Tra  at Final\\1150757675\\6min_real\n",
      "1 unique series IDs were found. Default is index 0, to change use set_index(index)\n",
      "The following ROIs were found\n",
      "brainstem\n",
      "glnd_submand_l\n",
      "glnd_submand_r\n",
      "bone_mandible\n",
      "parotid_l\n",
      "parotid_r\n",
      "spinalcord\n",
      "Loading images for T2 3D Tra  at \n",
      " Final\\1150757675\\6min_real\n",
      "\n",
      "6min_real_N4\n",
      "Final\\1150757675\\6min_real_N4\n"
     ]
    },
    {
     "name": "stderr",
     "output_type": "stream",
     "text": [
      "\r",
      "Loading through DICOM files:   0%|                                                               | 0/1 [00:00<?, ?it/s]"
     ]
    },
    {
     "name": "stdout",
     "output_type": "stream",
     "text": [
      "Loading from Final\\1150757675\\6min_real_N4\n"
     ]
    },
    {
     "name": "stderr",
     "output_type": "stream",
     "text": [
      "Loading through DICOM files: 100%|███████████████████████████████████████████████████████| 1/1 [00:12<00:00, 12.89s/it]\n"
     ]
    },
    {
     "name": "stdout",
     "output_type": "stream",
     "text": [
      "Compiling dictionaries together...\n",
      "Index 0, description None at Final\\1150757675\\6min_real_N4\n",
      "1 unique series IDs were found. Default is index 0, to change use set_index(index)\n",
      "The following ROIs were found\n",
      "Loading images for None at \n",
      " Final\\1150757675\\6min_real_N4\n",
      "\n",
      "6min_synthetic\n",
      "Final\\1150757675\\6min_synthetic\n"
     ]
    },
    {
     "name": "stderr",
     "output_type": "stream",
     "text": [
      "\r",
      "Loading through DICOM files:   0%|                                                               | 0/1 [00:00<?, ?it/s]"
     ]
    },
    {
     "name": "stdout",
     "output_type": "stream",
     "text": [
      "Loading from Final\\1150757675\\6min_synthetic\n"
     ]
    },
    {
     "name": "stderr",
     "output_type": "stream",
     "text": [
      "Loading through DICOM files: 100%|███████████████████████████████████████████████████████| 1/1 [00:03<00:00,  3.58s/it]\n"
     ]
    },
    {
     "name": "stdout",
     "output_type": "stream",
     "text": [
      "Compiling dictionaries together...\n",
      "Index 0, description  at Final\\1150757675\\6min_synthetic\n",
      "1 unique series IDs were found. Default is index 0, to change use set_index(index)\n",
      "The following ROIs were found\n",
      "brainstem\n",
      "glnd_submand_l\n",
      "glnd_submand_r\n",
      "bone_mandible\n",
      "parotid_l\n",
      "parotid_r\n",
      "spinalcord\n",
      "Loading images for  at \n",
      " Final\\1150757675\\6min_synthetic\n",
      "\n",
      "6min_synthetic_N4\n",
      "Final\\1150757675\\6min_synthetic_N4\n"
     ]
    },
    {
     "name": "stderr",
     "output_type": "stream",
     "text": [
      "\r",
      "Loading through DICOM files:   0%|                                                               | 0/1 [00:00<?, ?it/s]"
     ]
    },
    {
     "name": "stdout",
     "output_type": "stream",
     "text": [
      "Loading from Final\\1150757675\\6min_synthetic_N4\n"
     ]
    },
    {
     "name": "stderr",
     "output_type": "stream",
     "text": [
      "Loading through DICOM files: 100%|███████████████████████████████████████████████████████| 1/1 [00:03<00:00,  3.03s/it]\n"
     ]
    },
    {
     "name": "stdout",
     "output_type": "stream",
     "text": [
      "Compiling dictionaries together...\n",
      "Index 0, description  at Final\\1150757675\\6min_synthetic_N4\n",
      "1 unique series IDs were found. Default is index 0, to change use set_index(index)\n",
      "The following ROIs were found\n",
      "brainstem\n",
      "glnd_submand_l\n",
      "glnd_submand_r\n",
      "bone_mandible\n",
      "parotid_l\n",
      "parotid_r\n",
      "spinalcord\n",
      "Loading images for  at \n",
      " Final\\1150757675\\6min_synthetic_N4\n",
      "\n",
      "1389864037\n",
      "2min_real\n",
      "Final\\1389864037\\2min_real\n"
     ]
    },
    {
     "name": "stderr",
     "output_type": "stream",
     "text": [
      "\r",
      "Loading through DICOM files:   0%|                                                               | 0/1 [00:00<?, ?it/s]"
     ]
    },
    {
     "name": "stdout",
     "output_type": "stream",
     "text": [
      "Loading from Final\\1389864037\\2min_real\n"
     ]
    },
    {
     "name": "stderr",
     "output_type": "stream",
     "text": [
      "Loading through DICOM files: 100%|███████████████████████████████████████████████████████| 1/1 [00:04<00:00,  4.42s/it]\n"
     ]
    },
    {
     "name": "stdout",
     "output_type": "stream",
     "text": [
      "Compiling dictionaries together...\n",
      "Index 0, description T2 3D Tra 2min at Final\\1389864037\\2min_real\n",
      "1 unique series IDs were found. Default is index 0, to change use set_index(index)\n",
      "The following ROIs were found\n",
      "brainstem\n",
      "glnd_submand_l\n",
      "glnd_submand_r\n",
      "bone_mandible\n",
      "parotid_l\n",
      "parotid_r\n",
      "spinalcord\n",
      "Loading images for T2 3D Tra 2min at \n",
      " Final\\1389864037\\2min_real\n",
      "\n",
      "6min_real\n",
      "Final\\1389864037\\6min_real\n"
     ]
    },
    {
     "name": "stderr",
     "output_type": "stream",
     "text": [
      "\r",
      "Loading through DICOM files:   0%|                                                               | 0/1 [00:00<?, ?it/s]"
     ]
    },
    {
     "name": "stdout",
     "output_type": "stream",
     "text": [
      "Loading from Final\\1389864037\\6min_real\n"
     ]
    },
    {
     "name": "stderr",
     "output_type": "stream",
     "text": [
      "Loading through DICOM files: 100%|███████████████████████████████████████████████████████| 1/1 [00:04<00:00,  4.29s/it]\n"
     ]
    },
    {
     "name": "stdout",
     "output_type": "stream",
     "text": [
      "Compiling dictionaries together...\n",
      "Index 0, description T2 3D Tra  at Final\\1389864037\\6min_real\n",
      "1 unique series IDs were found. Default is index 0, to change use set_index(index)\n",
      "The following ROIs were found\n",
      "brainstem\n",
      "glnd_submand_l\n",
      "glnd_submand_r\n",
      "bone_mandible\n",
      "parotid_l\n",
      "parotid_r\n",
      "spinalcord\n",
      "Loading images for T2 3D Tra  at \n",
      " Final\\1389864037\\6min_real\n",
      "\n",
      "6min_real_N4\n",
      "Final\\1389864037\\6min_real_N4\n"
     ]
    },
    {
     "name": "stderr",
     "output_type": "stream",
     "text": [
      "\r",
      "Loading through DICOM files:   0%|                                                               | 0/1 [00:00<?, ?it/s]"
     ]
    },
    {
     "name": "stdout",
     "output_type": "stream",
     "text": [
      "Loading from Final\\1389864037\\6min_real_N4\n"
     ]
    },
    {
     "name": "stderr",
     "output_type": "stream",
     "text": [
      "Loading through DICOM files: 100%|███████████████████████████████████████████████████████| 1/1 [00:12<00:00, 12.59s/it]\n"
     ]
    },
    {
     "name": "stdout",
     "output_type": "stream",
     "text": [
      "Compiling dictionaries together...\n",
      "Index 0, description None at Final\\1389864037\\6min_real_N4\n",
      "1 unique series IDs were found. Default is index 0, to change use set_index(index)\n",
      "The following ROIs were found\n",
      "Loading images for None at \n",
      " Final\\1389864037\\6min_real_N4\n",
      "\n",
      "6min_synthetic\n",
      "Final\\1389864037\\6min_synthetic\n"
     ]
    },
    {
     "name": "stderr",
     "output_type": "stream",
     "text": [
      "\r",
      "Loading through DICOM files:   0%|                                                               | 0/1 [00:00<?, ?it/s]"
     ]
    },
    {
     "name": "stdout",
     "output_type": "stream",
     "text": [
      "Loading from Final\\1389864037\\6min_synthetic\n"
     ]
    },
    {
     "name": "stderr",
     "output_type": "stream",
     "text": [
      "Loading through DICOM files: 100%|███████████████████████████████████████████████████████| 1/1 [00:02<00:00,  2.91s/it]\n"
     ]
    },
    {
     "name": "stdout",
     "output_type": "stream",
     "text": [
      "Compiling dictionaries together...\n",
      "Index 0, description  at Final\\1389864037\\6min_synthetic\n",
      "1 unique series IDs were found. Default is index 0, to change use set_index(index)\n",
      "The following ROIs were found\n",
      "brainstem\n",
      "glnd_submand_l\n",
      "glnd_submand_r\n",
      "bone_mandible\n",
      "parotid_l\n",
      "parotid_r\n",
      "spinalcord\n",
      "Loading images for  at \n",
      " Final\\1389864037\\6min_synthetic\n",
      "\n",
      "6min_synthetic_N4\n",
      "Final\\1389864037\\6min_synthetic_N4\n"
     ]
    },
    {
     "name": "stderr",
     "output_type": "stream",
     "text": [
      "\r",
      "Loading through DICOM files:   0%|                                                               | 0/1 [00:00<?, ?it/s]"
     ]
    },
    {
     "name": "stdout",
     "output_type": "stream",
     "text": [
      "Loading from Final\\1389864037\\6min_synthetic_N4\n"
     ]
    },
    {
     "name": "stderr",
     "output_type": "stream",
     "text": [
      "Loading through DICOM files: 100%|███████████████████████████████████████████████████████| 1/1 [00:02<00:00,  2.84s/it]\n"
     ]
    },
    {
     "name": "stdout",
     "output_type": "stream",
     "text": [
      "Compiling dictionaries together...\n",
      "Index 0, description  at Final\\1389864037\\6min_synthetic_N4\n",
      "1 unique series IDs were found. Default is index 0, to change use set_index(index)\n",
      "The following ROIs were found\n",
      "brainstem\n",
      "glnd_submand_l\n",
      "glnd_submand_r\n",
      "bone_mandible\n",
      "parotid_l\n",
      "parotid_r\n",
      "spinalcord\n",
      "Loading images for  at \n",
      " Final\\1389864037\\6min_synthetic_N4\n",
      "\n",
      "1401204987\n",
      "2min_real\n",
      "Final\\1401204987\\2min_real\n"
     ]
    },
    {
     "name": "stderr",
     "output_type": "stream",
     "text": [
      "\r",
      "Loading through DICOM files:   0%|                                                               | 0/1 [00:00<?, ?it/s]"
     ]
    },
    {
     "name": "stdout",
     "output_type": "stream",
     "text": [
      "Loading from Final\\1401204987\\2min_real\n"
     ]
    },
    {
     "name": "stderr",
     "output_type": "stream",
     "text": [
      "Loading through DICOM files: 100%|███████████████████████████████████████████████████████| 1/1 [00:03<00:00,  3.90s/it]\n"
     ]
    },
    {
     "name": "stdout",
     "output_type": "stream",
     "text": [
      "Compiling dictionaries together...\n",
      "Index 0, description T2 3D Tra 2min at Final\\1401204987\\2min_real\n",
      "1 unique series IDs were found. Default is index 0, to change use set_index(index)\n",
      "The following ROIs were found\n",
      "brainstem\n",
      "glnd_submand_l\n",
      "glnd_submand_r\n",
      "bone_mandible\n",
      "parotid_l\n",
      "parotid_r\n",
      "spinalcord\n",
      "Loading images for T2 3D Tra 2min at \n",
      " Final\\1401204987\\2min_real\n",
      "\n",
      "6min_real\n",
      "Final\\1401204987\\6min_real\n"
     ]
    },
    {
     "name": "stderr",
     "output_type": "stream",
     "text": [
      "\r",
      "Loading through DICOM files:   0%|                                                               | 0/1 [00:00<?, ?it/s]"
     ]
    },
    {
     "name": "stdout",
     "output_type": "stream",
     "text": [
      "Loading from Final\\1401204987\\6min_real\n"
     ]
    },
    {
     "name": "stderr",
     "output_type": "stream",
     "text": [
      "Loading through DICOM files: 100%|███████████████████████████████████████████████████████| 1/1 [00:03<00:00,  3.62s/it]\n"
     ]
    },
    {
     "name": "stdout",
     "output_type": "stream",
     "text": [
      "Compiling dictionaries together...\n",
      "Index 0, description T2 3D Tra  at Final\\1401204987\\6min_real\n",
      "1 unique series IDs were found. Default is index 0, to change use set_index(index)\n",
      "The following ROIs were found\n",
      "brainstem\n",
      "glnd_submand_l\n",
      "glnd_submand_r\n",
      "bone_mandible\n",
      "parotid_l\n",
      "parotid_r\n",
      "spinalcord\n",
      "Loading images for T2 3D Tra  at \n",
      " Final\\1401204987\\6min_real\n",
      "\n",
      "6min_real_N4\n",
      "Final\\1401204987\\6min_real_N4\n"
     ]
    },
    {
     "name": "stderr",
     "output_type": "stream",
     "text": [
      "\r",
      "Loading through DICOM files:   0%|                                                               | 0/1 [00:00<?, ?it/s]"
     ]
    },
    {
     "name": "stdout",
     "output_type": "stream",
     "text": [
      "Loading from Final\\1401204987\\6min_real_N4\n"
     ]
    },
    {
     "name": "stderr",
     "output_type": "stream",
     "text": [
      "Loading through DICOM files: 100%|███████████████████████████████████████████████████████| 1/1 [00:13<00:00, 13.21s/it]\n"
     ]
    },
    {
     "name": "stdout",
     "output_type": "stream",
     "text": [
      "Compiling dictionaries together...\n",
      "Index 0, description None at Final\\1401204987\\6min_real_N4\n",
      "1 unique series IDs were found. Default is index 0, to change use set_index(index)\n",
      "The following ROIs were found\n",
      "Loading images for None at \n",
      " Final\\1401204987\\6min_real_N4\n",
      "\n",
      "6min_synthetic\n",
      "Final\\1401204987\\6min_synthetic\n"
     ]
    },
    {
     "name": "stderr",
     "output_type": "stream",
     "text": [
      "\r",
      "Loading through DICOM files:   0%|                                                               | 0/1 [00:00<?, ?it/s]"
     ]
    },
    {
     "name": "stdout",
     "output_type": "stream",
     "text": [
      "Loading from Final\\1401204987\\6min_synthetic\n"
     ]
    },
    {
     "name": "stderr",
     "output_type": "stream",
     "text": [
      "Loading through DICOM files: 100%|███████████████████████████████████████████████████████| 1/1 [00:02<00:00,  2.67s/it]\n"
     ]
    },
    {
     "name": "stdout",
     "output_type": "stream",
     "text": [
      "Compiling dictionaries together...\n",
      "Index 0, description  at Final\\1401204987\\6min_synthetic\n",
      "1 unique series IDs were found. Default is index 0, to change use set_index(index)\n",
      "The following ROIs were found\n",
      "brainstem\n",
      "glnd_submand_l\n",
      "glnd_submand_r\n",
      "bone_mandible\n",
      "parotid_l\n",
      "parotid_r\n",
      "spinalcord\n",
      "Loading images for  at \n",
      " Final\\1401204987\\6min_synthetic\n",
      "\n",
      "6min_synthetic_N4\n",
      "Final\\1401204987\\6min_synthetic_N4\n"
     ]
    },
    {
     "name": "stderr",
     "output_type": "stream",
     "text": [
      "\r",
      "Loading through DICOM files:   0%|                                                               | 0/1 [00:00<?, ?it/s]"
     ]
    },
    {
     "name": "stdout",
     "output_type": "stream",
     "text": [
      "Loading from Final\\1401204987\\6min_synthetic_N4\n"
     ]
    },
    {
     "name": "stderr",
     "output_type": "stream",
     "text": [
      "Loading through DICOM files: 100%|███████████████████████████████████████████████████████| 1/1 [00:02<00:00,  2.76s/it]\n"
     ]
    },
    {
     "name": "stdout",
     "output_type": "stream",
     "text": [
      "Compiling dictionaries together...\n",
      "Index 0, description  at Final\\1401204987\\6min_synthetic_N4\n",
      "1 unique series IDs were found. Default is index 0, to change use set_index(index)\n",
      "The following ROIs were found\n",
      "brainstem\n",
      "glnd_submand_l\n",
      "glnd_submand_r\n",
      "bone_mandible\n",
      "parotid_l\n",
      "parotid_r\n",
      "spinalcord\n",
      "Loading images for  at \n",
      " Final\\1401204987\\6min_synthetic_N4\n",
      "\n",
      "1787293395\n",
      "2min_real\n",
      "Final\\1787293395\\2min_real\n"
     ]
    },
    {
     "name": "stderr",
     "output_type": "stream",
     "text": [
      "\r",
      "Loading through DICOM files:   0%|                                                               | 0/1 [00:00<?, ?it/s]"
     ]
    },
    {
     "name": "stdout",
     "output_type": "stream",
     "text": [
      "Loading from Final\\1787293395\\2min_real\n"
     ]
    },
    {
     "name": "stderr",
     "output_type": "stream",
     "text": [
      "Loading through DICOM files: 100%|███████████████████████████████████████████████████████| 1/1 [00:03<00:00,  3.66s/it]\n"
     ]
    },
    {
     "name": "stdout",
     "output_type": "stream",
     "text": [
      "Compiling dictionaries together...\n",
      "Index 0, description T2 3D Tra 2min at Final\\1787293395\\2min_real\n",
      "1 unique series IDs were found. Default is index 0, to change use set_index(index)\n",
      "The following ROIs were found\n",
      "brainstem\n",
      "glnd_submand_l\n",
      "glnd_submand_r\n",
      "bone_mandible\n",
      "parotid_l\n",
      "parotid_r\n",
      "spinalcord\n",
      "Loading images for T2 3D Tra 2min at \n",
      " Final\\1787293395\\2min_real\n",
      "\n",
      "6min_real\n",
      "Final\\1787293395\\6min_real\n"
     ]
    },
    {
     "name": "stderr",
     "output_type": "stream",
     "text": [
      "\r",
      "Loading through DICOM files:   0%|                                                               | 0/1 [00:00<?, ?it/s]"
     ]
    },
    {
     "name": "stdout",
     "output_type": "stream",
     "text": [
      "Loading from Final\\1787293395\\6min_real\n"
     ]
    },
    {
     "name": "stderr",
     "output_type": "stream",
     "text": [
      "Loading through DICOM files: 100%|███████████████████████████████████████████████████████| 1/1 [00:03<00:00,  3.61s/it]\n"
     ]
    },
    {
     "name": "stdout",
     "output_type": "stream",
     "text": [
      "Compiling dictionaries together...\n",
      "Index 0, description T2 3D Tra  at Final\\1787293395\\6min_real\n",
      "1 unique series IDs were found. Default is index 0, to change use set_index(index)\n",
      "The following ROIs were found\n",
      "brainstem\n",
      "glnd_submand_l\n",
      "glnd_submand_r\n",
      "bone_mandible\n",
      "parotid_l\n",
      "parotid_r\n",
      "spinalcord\n",
      "Loading images for T2 3D Tra  at \n",
      " Final\\1787293395\\6min_real\n",
      "\n",
      "6min_real_N4\n",
      "Final\\1787293395\\6min_real_N4\n"
     ]
    },
    {
     "name": "stderr",
     "output_type": "stream",
     "text": [
      "\r",
      "Loading through DICOM files:   0%|                                                               | 0/1 [00:00<?, ?it/s]"
     ]
    },
    {
     "name": "stdout",
     "output_type": "stream",
     "text": [
      "Loading from Final\\1787293395\\6min_real_N4\n"
     ]
    },
    {
     "name": "stderr",
     "output_type": "stream",
     "text": [
      "Loading through DICOM files: 100%|███████████████████████████████████████████████████████| 1/1 [00:12<00:00, 12.56s/it]\n"
     ]
    },
    {
     "name": "stdout",
     "output_type": "stream",
     "text": [
      "Compiling dictionaries together...\n",
      "Index 0, description None at Final\\1787293395\\6min_real_N4\n",
      "1 unique series IDs were found. Default is index 0, to change use set_index(index)\n",
      "The following ROIs were found\n",
      "Loading images for None at \n",
      " Final\\1787293395\\6min_real_N4\n",
      "\n",
      "6min_synthetic\n",
      "Final\\1787293395\\6min_synthetic\n"
     ]
    },
    {
     "name": "stderr",
     "output_type": "stream",
     "text": [
      "\r",
      "Loading through DICOM files:   0%|                                                               | 0/1 [00:00<?, ?it/s]"
     ]
    },
    {
     "name": "stdout",
     "output_type": "stream",
     "text": [
      "Loading from Final\\1787293395\\6min_synthetic\n"
     ]
    },
    {
     "name": "stderr",
     "output_type": "stream",
     "text": [
      "Loading through DICOM files: 100%|███████████████████████████████████████████████████████| 1/1 [00:03<00:00,  3.32s/it]\n"
     ]
    },
    {
     "name": "stdout",
     "output_type": "stream",
     "text": [
      "Compiling dictionaries together...\n",
      "Index 0, description  at Final\\1787293395\\6min_synthetic\n",
      "1 unique series IDs were found. Default is index 0, to change use set_index(index)\n",
      "The following ROIs were found\n",
      "brainstem\n",
      "glnd_submand_l\n",
      "glnd_submand_r\n",
      "bone_mandible\n",
      "parotid_l\n",
      "parotid_r\n",
      "spinalcord\n",
      "Loading images for  at \n",
      " Final\\1787293395\\6min_synthetic\n",
      "\n",
      "6min_synthetic_N4\n",
      "Final\\1787293395\\6min_synthetic_N4\n"
     ]
    },
    {
     "name": "stderr",
     "output_type": "stream",
     "text": [
      "\r",
      "Loading through DICOM files:   0%|                                                               | 0/1 [00:00<?, ?it/s]"
     ]
    },
    {
     "name": "stdout",
     "output_type": "stream",
     "text": [
      "Loading from Final\\1787293395\\6min_synthetic_N4\n"
     ]
    },
    {
     "name": "stderr",
     "output_type": "stream",
     "text": [
      "Loading through DICOM files: 100%|███████████████████████████████████████████████████████| 1/1 [00:02<00:00,  2.65s/it]\n"
     ]
    },
    {
     "name": "stdout",
     "output_type": "stream",
     "text": [
      "Compiling dictionaries together...\n",
      "Index 0, description  at Final\\1787293395\\6min_synthetic_N4\n",
      "1 unique series IDs were found. Default is index 0, to change use set_index(index)\n",
      "The following ROIs were found\n",
      "brainstem\n",
      "glnd_submand_l\n",
      "glnd_submand_r\n",
      "bone_mandible\n",
      "parotid_l\n",
      "parotid_r\n",
      "spinalcord\n",
      "Loading images for  at \n",
      " Final\\1787293395\\6min_synthetic_N4\n",
      "\n",
      "1945523813\n",
      "2min_real\n",
      "Final\\1945523813\\2min_real\n"
     ]
    },
    {
     "name": "stderr",
     "output_type": "stream",
     "text": [
      "\r",
      "Loading through DICOM files:   0%|                                                               | 0/1 [00:00<?, ?it/s]"
     ]
    },
    {
     "name": "stdout",
     "output_type": "stream",
     "text": [
      "Loading from Final\\1945523813\\2min_real\n"
     ]
    },
    {
     "name": "stderr",
     "output_type": "stream",
     "text": [
      "Loading through DICOM files: 100%|███████████████████████████████████████████████████████| 1/1 [00:03<00:00,  3.65s/it]\n"
     ]
    },
    {
     "name": "stdout",
     "output_type": "stream",
     "text": [
      "Compiling dictionaries together...\n",
      "Index 0, description T2 3D Tra 2min at Final\\1945523813\\2min_real\n",
      "1 unique series IDs were found. Default is index 0, to change use set_index(index)\n",
      "The following ROIs were found\n",
      "brainstem\n",
      "glnd_submand_l\n",
      "glnd_submand_r\n",
      "bone_mandible\n",
      "parotid_l\n",
      "parotid_r\n",
      "spinalcord\n",
      "Loading images for T2 3D Tra 2min at \n",
      " Final\\1945523813\\2min_real\n",
      "\n",
      "6min_real\n",
      "Final\\1945523813\\6min_real\n"
     ]
    },
    {
     "name": "stderr",
     "output_type": "stream",
     "text": [
      "\r",
      "Loading through DICOM files:   0%|                                                               | 0/1 [00:00<?, ?it/s]"
     ]
    },
    {
     "name": "stdout",
     "output_type": "stream",
     "text": [
      "Loading from Final\\1945523813\\6min_real\n"
     ]
    },
    {
     "name": "stderr",
     "output_type": "stream",
     "text": [
      "Loading through DICOM files: 100%|███████████████████████████████████████████████████████| 1/1 [00:03<00:00,  3.53s/it]\n"
     ]
    },
    {
     "name": "stdout",
     "output_type": "stream",
     "text": [
      "Compiling dictionaries together...\n",
      "Index 0, description T2 3D Tra  at Final\\1945523813\\6min_real\n",
      "1 unique series IDs were found. Default is index 0, to change use set_index(index)\n",
      "The following ROIs were found\n",
      "brainstem\n",
      "glnd_submand_l\n",
      "glnd_submand_r\n",
      "bone_mandible\n",
      "parotid_l\n",
      "parotid_r\n",
      "spinalcord\n",
      "Loading images for T2 3D Tra  at \n",
      " Final\\1945523813\\6min_real\n",
      "\n",
      "6min_real_N4\n",
      "Final\\1945523813\\6min_real_N4\n"
     ]
    },
    {
     "name": "stderr",
     "output_type": "stream",
     "text": [
      "\r",
      "Loading through DICOM files:   0%|                                                               | 0/1 [00:00<?, ?it/s]"
     ]
    },
    {
     "name": "stdout",
     "output_type": "stream",
     "text": [
      "Loading from Final\\1945523813\\6min_real_N4\n"
     ]
    },
    {
     "name": "stderr",
     "output_type": "stream",
     "text": [
      "Loading through DICOM files: 100%|███████████████████████████████████████████████████████| 1/1 [00:12<00:00, 12.51s/it]\n"
     ]
    },
    {
     "name": "stdout",
     "output_type": "stream",
     "text": [
      "Compiling dictionaries together...\n",
      "Index 0, description None at Final\\1945523813\\6min_real_N4\n",
      "1 unique series IDs were found. Default is index 0, to change use set_index(index)\n",
      "The following ROIs were found\n",
      "Loading images for None at \n",
      " Final\\1945523813\\6min_real_N4\n",
      "\n",
      "6min_synthetic\n",
      "Final\\1945523813\\6min_synthetic\n"
     ]
    },
    {
     "name": "stderr",
     "output_type": "stream",
     "text": [
      "\r",
      "Loading through DICOM files:   0%|                                                               | 0/1 [00:00<?, ?it/s]"
     ]
    },
    {
     "name": "stdout",
     "output_type": "stream",
     "text": [
      "Loading from Final\\1945523813\\6min_synthetic\n"
     ]
    },
    {
     "name": "stderr",
     "output_type": "stream",
     "text": [
      "Loading through DICOM files: 100%|███████████████████████████████████████████████████████| 1/1 [00:02<00:00,  2.20s/it]\n"
     ]
    },
    {
     "name": "stdout",
     "output_type": "stream",
     "text": [
      "Compiling dictionaries together...\n",
      "Index 0, description  at Final\\1945523813\\6min_synthetic\n",
      "1 unique series IDs were found. Default is index 0, to change use set_index(index)\n",
      "The following ROIs were found\n",
      "brainstem\n",
      "glnd_submand_l\n",
      "glnd_submand_r\n",
      "bone_mandible\n",
      "parotid_l\n",
      "parotid_r\n",
      "spinalcord\n",
      "Loading images for  at \n",
      " Final\\1945523813\\6min_synthetic\n",
      "\n",
      "6min_synthetic_N4\n",
      "Final\\1945523813\\6min_synthetic_N4\n"
     ]
    },
    {
     "name": "stderr",
     "output_type": "stream",
     "text": [
      "\r",
      "Loading through DICOM files:   0%|                                                               | 0/1 [00:00<?, ?it/s]"
     ]
    },
    {
     "name": "stdout",
     "output_type": "stream",
     "text": [
      "Loading from Final\\1945523813\\6min_synthetic_N4\n"
     ]
    },
    {
     "name": "stderr",
     "output_type": "stream",
     "text": [
      "Loading through DICOM files: 100%|███████████████████████████████████████████████████████| 1/1 [00:02<00:00,  2.82s/it]\n"
     ]
    },
    {
     "name": "stdout",
     "output_type": "stream",
     "text": [
      "Compiling dictionaries together...\n",
      "Index 0, description  at Final\\1945523813\\6min_synthetic_N4\n",
      "1 unique series IDs were found. Default is index 0, to change use set_index(index)\n",
      "The following ROIs were found\n",
      "brainstem\n",
      "glnd_submand_l\n",
      "glnd_submand_r\n",
      "bone_mandible\n",
      "parotid_l\n",
      "parotid_r\n",
      "spinalcord\n",
      "Loading images for  at \n",
      " Final\\1945523813\\6min_synthetic_N4\n",
      "\n",
      "1945979999\n",
      "2min_real\n",
      "Final\\1945979999\\2min_real\n"
     ]
    },
    {
     "name": "stderr",
     "output_type": "stream",
     "text": [
      "\r",
      "Loading through DICOM files:   0%|                                                               | 0/1 [00:00<?, ?it/s]"
     ]
    },
    {
     "name": "stdout",
     "output_type": "stream",
     "text": [
      "Loading from Final\\1945979999\\2min_real\n"
     ]
    },
    {
     "name": "stderr",
     "output_type": "stream",
     "text": [
      "Loading through DICOM files: 100%|███████████████████████████████████████████████████████| 1/1 [00:03<00:00,  3.57s/it]\n"
     ]
    },
    {
     "name": "stdout",
     "output_type": "stream",
     "text": [
      "Compiling dictionaries together...\n",
      "Index 0, description T2 3D Tra 2min at Final\\1945979999\\2min_real\n",
      "1 unique series IDs were found. Default is index 0, to change use set_index(index)\n",
      "The following ROIs were found\n",
      "brainstem\n",
      "glnd_submand_l\n",
      "glnd_submand_r\n",
      "bone_mandible\n",
      "parotid_l\n",
      "parotid_r\n",
      "spinalcord\n",
      "Loading images for T2 3D Tra 2min at \n",
      " Final\\1945979999\\2min_real\n",
      "\n",
      "6min_real\n",
      "Final\\1945979999\\6min_real\n"
     ]
    },
    {
     "name": "stderr",
     "output_type": "stream",
     "text": [
      "\r",
      "Loading through DICOM files:   0%|                                                               | 0/1 [00:00<?, ?it/s]"
     ]
    },
    {
     "name": "stdout",
     "output_type": "stream",
     "text": [
      "Loading from Final\\1945979999\\6min_real\n"
     ]
    },
    {
     "name": "stderr",
     "output_type": "stream",
     "text": [
      "Loading through DICOM files: 100%|███████████████████████████████████████████████████████| 1/1 [00:03<00:00,  3.66s/it]\n"
     ]
    },
    {
     "name": "stdout",
     "output_type": "stream",
     "text": [
      "Compiling dictionaries together...\n",
      "Index 0, description T2 3D Tra  at Final\\1945979999\\6min_real\n",
      "1 unique series IDs were found. Default is index 0, to change use set_index(index)\n",
      "The following ROIs were found\n",
      "brainstem\n",
      "glnd_submand_l\n",
      "glnd_submand_r\n",
      "bone_mandible\n",
      "parotid_l\n",
      "parotid_r\n",
      "spinalcord\n",
      "Loading images for T2 3D Tra  at \n",
      " Final\\1945979999\\6min_real\n",
      "\n",
      "6min_real_N4\n",
      "Final\\1945979999\\6min_real_N4\n"
     ]
    },
    {
     "name": "stderr",
     "output_type": "stream",
     "text": [
      "\r",
      "Loading through DICOM files:   0%|                                                               | 0/1 [00:00<?, ?it/s]"
     ]
    },
    {
     "name": "stdout",
     "output_type": "stream",
     "text": [
      "Loading from Final\\1945979999\\6min_real_N4\n"
     ]
    },
    {
     "name": "stderr",
     "output_type": "stream",
     "text": [
      "Loading through DICOM files: 100%|███████████████████████████████████████████████████████| 1/1 [00:12<00:00, 12.17s/it]\n"
     ]
    },
    {
     "name": "stdout",
     "output_type": "stream",
     "text": [
      "Compiling dictionaries together...\n",
      "Index 0, description None at Final\\1945979999\\6min_real_N4\n",
      "1 unique series IDs were found. Default is index 0, to change use set_index(index)\n",
      "The following ROIs were found\n",
      "Loading images for None at \n",
      " Final\\1945979999\\6min_real_N4\n",
      "\n",
      "6min_synthetic\n",
      "Final\\1945979999\\6min_synthetic\n"
     ]
    },
    {
     "name": "stderr",
     "output_type": "stream",
     "text": [
      "\r",
      "Loading through DICOM files:   0%|                                                               | 0/1 [00:00<?, ?it/s]"
     ]
    },
    {
     "name": "stdout",
     "output_type": "stream",
     "text": [
      "Loading from Final\\1945979999\\6min_synthetic\n"
     ]
    },
    {
     "name": "stderr",
     "output_type": "stream",
     "text": [
      "Loading through DICOM files: 100%|███████████████████████████████████████████████████████| 1/1 [00:02<00:00,  2.51s/it]\n"
     ]
    },
    {
     "name": "stdout",
     "output_type": "stream",
     "text": [
      "Compiling dictionaries together...\n",
      "Index 0, description  at Final\\1945979999\\6min_synthetic\n",
      "1 unique series IDs were found. Default is index 0, to change use set_index(index)\n",
      "The following ROIs were found\n",
      "brainstem\n",
      "glnd_submand_l\n",
      "glnd_submand_r\n",
      "bone_mandible\n",
      "parotid_l\n",
      "parotid_r\n",
      "spinalcord\n",
      "Loading images for  at \n",
      " Final\\1945979999\\6min_synthetic\n",
      "\n",
      "6min_synthetic_N4\n",
      "Final\\1945979999\\6min_synthetic_N4\n"
     ]
    },
    {
     "name": "stderr",
     "output_type": "stream",
     "text": [
      "\r",
      "Loading through DICOM files:   0%|                                                               | 0/1 [00:00<?, ?it/s]"
     ]
    },
    {
     "name": "stdout",
     "output_type": "stream",
     "text": [
      "Loading from Final\\1945979999\\6min_synthetic_N4\n"
     ]
    },
    {
     "name": "stderr",
     "output_type": "stream",
     "text": [
      "Loading through DICOM files: 100%|███████████████████████████████████████████████████████| 1/1 [00:02<00:00,  2.59s/it]\n"
     ]
    },
    {
     "name": "stdout",
     "output_type": "stream",
     "text": [
      "Compiling dictionaries together...\n",
      "Index 0, description  at Final\\1945979999\\6min_synthetic_N4\n",
      "1 unique series IDs were found. Default is index 0, to change use set_index(index)\n",
      "The following ROIs were found\n",
      "brainstem\n",
      "glnd_submand_l\n",
      "glnd_submand_r\n",
      "bone_mandible\n",
      "parotid_l\n",
      "parotid_r\n",
      "spinalcord\n",
      "Loading images for  at \n",
      " Final\\1945979999\\6min_synthetic_N4\n",
      "\n",
      "2000997454\n",
      "2min_real\n",
      "Final\\2000997454\\2min_real\n"
     ]
    },
    {
     "name": "stderr",
     "output_type": "stream",
     "text": [
      "\r",
      "Loading through DICOM files:   0%|                                                               | 0/1 [00:00<?, ?it/s]"
     ]
    },
    {
     "name": "stdout",
     "output_type": "stream",
     "text": [
      "Loading from Final\\2000997454\\2min_real\n"
     ]
    },
    {
     "name": "stderr",
     "output_type": "stream",
     "text": [
      "Loading through DICOM files: 100%|███████████████████████████████████████████████████████| 1/1 [00:03<00:00,  3.37s/it]\n"
     ]
    },
    {
     "name": "stdout",
     "output_type": "stream",
     "text": [
      "Compiling dictionaries together...\n",
      "Index 0, description T2 3D Tra 2min at Final\\2000997454\\2min_real\n",
      "1 unique series IDs were found. Default is index 0, to change use set_index(index)\n",
      "The following ROIs were found\n",
      "brainstem\n",
      "glnd_submand_l\n",
      "glnd_submand_r\n",
      "bone_mandible\n",
      "parotid_l\n",
      "parotid_r\n",
      "spinalcord\n",
      "Loading images for T2 3D Tra 2min at \n",
      " Final\\2000997454\\2min_real\n",
      "\n",
      "6min_real\n",
      "Final\\2000997454\\6min_real\n"
     ]
    },
    {
     "name": "stderr",
     "output_type": "stream",
     "text": [
      "\r",
      "Loading through DICOM files:   0%|                                                               | 0/1 [00:00<?, ?it/s]"
     ]
    },
    {
     "name": "stdout",
     "output_type": "stream",
     "text": [
      "Loading from Final\\2000997454\\6min_real\n"
     ]
    },
    {
     "name": "stderr",
     "output_type": "stream",
     "text": [
      "Loading through DICOM files: 100%|███████████████████████████████████████████████████████| 1/1 [00:03<00:00,  3.54s/it]\n"
     ]
    },
    {
     "name": "stdout",
     "output_type": "stream",
     "text": [
      "Compiling dictionaries together...\n",
      "Index 0, description T2 3D Tra  at Final\\2000997454\\6min_real\n",
      "1 unique series IDs were found. Default is index 0, to change use set_index(index)\n",
      "The following ROIs were found\n",
      "brainstem\n",
      "glnd_submand_l\n",
      "glnd_submand_r\n",
      "bone_mandible\n",
      "parotid_l\n",
      "parotid_r\n",
      "spinalcord\n",
      "Loading images for T2 3D Tra  at \n",
      " Final\\2000997454\\6min_real\n",
      "\n",
      "6min_real_N4\n",
      "Final\\2000997454\\6min_real_N4\n"
     ]
    },
    {
     "name": "stderr",
     "output_type": "stream",
     "text": [
      "\r",
      "Loading through DICOM files:   0%|                                                               | 0/1 [00:00<?, ?it/s]"
     ]
    },
    {
     "name": "stdout",
     "output_type": "stream",
     "text": [
      "Loading from Final\\2000997454\\6min_real_N4\n"
     ]
    },
    {
     "name": "stderr",
     "output_type": "stream",
     "text": [
      "Loading through DICOM files: 100%|███████████████████████████████████████████████████████| 1/1 [00:12<00:00, 12.29s/it]\n"
     ]
    },
    {
     "name": "stdout",
     "output_type": "stream",
     "text": [
      "Compiling dictionaries together...\n",
      "Index 0, description None at Final\\2000997454\\6min_real_N4\n",
      "1 unique series IDs were found. Default is index 0, to change use set_index(index)\n",
      "The following ROIs were found\n",
      "Loading images for None at \n",
      " Final\\2000997454\\6min_real_N4\n",
      "\n",
      "6min_synthetic\n",
      "Final\\2000997454\\6min_synthetic\n"
     ]
    },
    {
     "name": "stderr",
     "output_type": "stream",
     "text": [
      "\r",
      "Loading through DICOM files:   0%|                                                               | 0/1 [00:00<?, ?it/s]"
     ]
    },
    {
     "name": "stdout",
     "output_type": "stream",
     "text": [
      "Loading from Final\\2000997454\\6min_synthetic\n"
     ]
    },
    {
     "name": "stderr",
     "output_type": "stream",
     "text": [
      "Loading through DICOM files: 100%|███████████████████████████████████████████████████████| 1/1 [00:02<00:00,  2.57s/it]\n"
     ]
    },
    {
     "name": "stdout",
     "output_type": "stream",
     "text": [
      "Compiling dictionaries together...\n",
      "Index 0, description  at Final\\2000997454\\6min_synthetic\n",
      "1 unique series IDs were found. Default is index 0, to change use set_index(index)\n",
      "The following ROIs were found\n",
      "brainstem\n",
      "glnd_submand_l\n",
      "glnd_submand_r\n",
      "bone_mandible\n",
      "parotid_l\n",
      "parotid_r\n",
      "spinalcord\n",
      "Loading images for  at \n",
      " Final\\2000997454\\6min_synthetic\n",
      "\n",
      "6min_synthetic_N4\n",
      "Final\\2000997454\\6min_synthetic_N4\n"
     ]
    },
    {
     "name": "stderr",
     "output_type": "stream",
     "text": [
      "\r",
      "Loading through DICOM files:   0%|                                                               | 0/1 [00:00<?, ?it/s]"
     ]
    },
    {
     "name": "stdout",
     "output_type": "stream",
     "text": [
      "Loading from Final\\2000997454\\6min_synthetic_N4\n"
     ]
    },
    {
     "name": "stderr",
     "output_type": "stream",
     "text": [
      "Loading through DICOM files: 100%|███████████████████████████████████████████████████████| 1/1 [00:02<00:00,  2.54s/it]\n"
     ]
    },
    {
     "name": "stdout",
     "output_type": "stream",
     "text": [
      "Compiling dictionaries together...\n",
      "Index 0, description  at Final\\2000997454\\6min_synthetic_N4\n",
      "1 unique series IDs were found. Default is index 0, to change use set_index(index)\n",
      "The following ROIs were found\n",
      "brainstem\n",
      "glnd_submand_l\n",
      "glnd_submand_r\n",
      "bone_mandible\n",
      "parotid_l\n",
      "parotid_r\n",
      "spinalcord\n",
      "Loading images for  at \n",
      " Final\\2000997454\\6min_synthetic_N4\n",
      "\n",
      "2212371295\n",
      "2min_real\n",
      "Final\\2212371295\\2min_real\n"
     ]
    },
    {
     "name": "stderr",
     "output_type": "stream",
     "text": [
      "\r",
      "Loading through DICOM files:   0%|                                                               | 0/1 [00:00<?, ?it/s]"
     ]
    },
    {
     "name": "stdout",
     "output_type": "stream",
     "text": [
      "Loading from Final\\2212371295\\2min_real\n"
     ]
    },
    {
     "name": "stderr",
     "output_type": "stream",
     "text": [
      "Loading through DICOM files: 100%|███████████████████████████████████████████████████████| 1/1 [00:03<00:00,  3.73s/it]\n"
     ]
    },
    {
     "name": "stdout",
     "output_type": "stream",
     "text": [
      "Compiling dictionaries together...\n",
      "Index 0, description T2 3D Tra 2min at Final\\2212371295\\2min_real\n",
      "1 unique series IDs were found. Default is index 0, to change use set_index(index)\n",
      "The following ROIs were found\n",
      "brainstem\n",
      "glnd_submand_l\n",
      "glnd_submand_r\n",
      "bone_mandible\n",
      "parotid_l\n",
      "parotid_r\n",
      "spinalcord\n",
      "Loading images for T2 3D Tra 2min at \n",
      " Final\\2212371295\\2min_real\n",
      "\n",
      "6min_real\n",
      "Final\\2212371295\\6min_real\n"
     ]
    },
    {
     "name": "stderr",
     "output_type": "stream",
     "text": [
      "\r",
      "Loading through DICOM files:   0%|                                                               | 0/1 [00:00<?, ?it/s]"
     ]
    },
    {
     "name": "stdout",
     "output_type": "stream",
     "text": [
      "Loading from Final\\2212371295\\6min_real\n"
     ]
    },
    {
     "name": "stderr",
     "output_type": "stream",
     "text": [
      "Loading through DICOM files: 100%|███████████████████████████████████████████████████████| 1/1 [00:03<00:00,  3.59s/it]\n"
     ]
    },
    {
     "name": "stdout",
     "output_type": "stream",
     "text": [
      "Compiling dictionaries together...\n",
      "Index 0, description T2 3D Tra  at Final\\2212371295\\6min_real\n",
      "1 unique series IDs were found. Default is index 0, to change use set_index(index)\n",
      "The following ROIs were found\n",
      "brainstem\n",
      "glnd_submand_l\n",
      "glnd_submand_r\n",
      "bone_mandible\n",
      "parotid_l\n",
      "parotid_r\n",
      "spinalcord\n",
      "Loading images for T2 3D Tra  at \n",
      " Final\\2212371295\\6min_real\n",
      "\n",
      "6min_real_N4\n",
      "Final\\2212371295\\6min_real_N4\n"
     ]
    },
    {
     "name": "stderr",
     "output_type": "stream",
     "text": [
      "\r",
      "Loading through DICOM files:   0%|                                                               | 0/1 [00:00<?, ?it/s]"
     ]
    },
    {
     "name": "stdout",
     "output_type": "stream",
     "text": [
      "Loading from Final\\2212371295\\6min_real_N4\n"
     ]
    },
    {
     "name": "stderr",
     "output_type": "stream",
     "text": [
      "Loading through DICOM files: 100%|███████████████████████████████████████████████████████| 1/1 [00:12<00:00, 12.27s/it]\n"
     ]
    },
    {
     "name": "stdout",
     "output_type": "stream",
     "text": [
      "Compiling dictionaries together...\n",
      "Index 0, description None at Final\\2212371295\\6min_real_N4\n",
      "1 unique series IDs were found. Default is index 0, to change use set_index(index)\n",
      "The following ROIs were found\n",
      "Loading images for None at \n",
      " Final\\2212371295\\6min_real_N4\n",
      "\n",
      "6min_synthetic\n",
      "Final\\2212371295\\6min_synthetic\n"
     ]
    },
    {
     "name": "stderr",
     "output_type": "stream",
     "text": [
      "\r",
      "Loading through DICOM files:   0%|                                                               | 0/1 [00:00<?, ?it/s]"
     ]
    },
    {
     "name": "stdout",
     "output_type": "stream",
     "text": [
      "Loading from Final\\2212371295\\6min_synthetic\n"
     ]
    },
    {
     "name": "stderr",
     "output_type": "stream",
     "text": [
      "Loading through DICOM files: 100%|███████████████████████████████████████████████████████| 1/1 [00:02<00:00,  2.38s/it]\n"
     ]
    },
    {
     "name": "stdout",
     "output_type": "stream",
     "text": [
      "Compiling dictionaries together...\n",
      "Index 0, description  at Final\\2212371295\\6min_synthetic\n",
      "1 unique series IDs were found. Default is index 0, to change use set_index(index)\n",
      "The following ROIs were found\n",
      "brainstem\n",
      "glnd_submand_l\n",
      "glnd_submand_r\n",
      "bone_mandible\n",
      "parotid_l\n",
      "parotid_r\n",
      "spinalcord\n",
      "Loading images for  at \n",
      " Final\\2212371295\\6min_synthetic\n",
      "\n",
      "6min_synthetic_N4\n",
      "Final\\2212371295\\6min_synthetic_N4\n"
     ]
    },
    {
     "name": "stderr",
     "output_type": "stream",
     "text": [
      "\r",
      "Loading through DICOM files:   0%|                                                               | 0/1 [00:00<?, ?it/s]"
     ]
    },
    {
     "name": "stdout",
     "output_type": "stream",
     "text": [
      "Loading from Final\\2212371295\\6min_synthetic_N4\n"
     ]
    },
    {
     "name": "stderr",
     "output_type": "stream",
     "text": [
      "Loading through DICOM files: 100%|███████████████████████████████████████████████████████| 1/1 [00:02<00:00,  2.53s/it]\n"
     ]
    },
    {
     "name": "stdout",
     "output_type": "stream",
     "text": [
      "Compiling dictionaries together...\n",
      "Index 0, description  at Final\\2212371295\\6min_synthetic_N4\n",
      "1 unique series IDs were found. Default is index 0, to change use set_index(index)\n",
      "The following ROIs were found\n",
      "brainstem\n",
      "glnd_submand_l\n",
      "glnd_submand_r\n",
      "bone_mandible\n",
      "parotid_l\n",
      "parotid_r\n",
      "spinalcord\n",
      "Loading images for  at \n",
      " Final\\2212371295\\6min_synthetic_N4\n",
      "\n",
      "2278732249\n",
      "2min_real\n",
      "Final\\2278732249\\2min_real\n"
     ]
    },
    {
     "name": "stderr",
     "output_type": "stream",
     "text": [
      "\r",
      "Loading through DICOM files:   0%|                                                               | 0/1 [00:00<?, ?it/s]"
     ]
    },
    {
     "name": "stdout",
     "output_type": "stream",
     "text": [
      "Loading from Final\\2278732249\\2min_real\n"
     ]
    },
    {
     "name": "stderr",
     "output_type": "stream",
     "text": [
      "Loading through DICOM files: 100%|███████████████████████████████████████████████████████| 1/1 [00:03<00:00,  3.51s/it]\n"
     ]
    },
    {
     "name": "stdout",
     "output_type": "stream",
     "text": [
      "Compiling dictionaries together...\n",
      "Index 0, description T2 3D Tra 2min at Final\\2278732249\\2min_real\n",
      "1 unique series IDs were found. Default is index 0, to change use set_index(index)\n",
      "The following ROIs were found\n",
      "brainstem\n",
      "glnd_submand_l\n",
      "glnd_submand_r\n",
      "bone_mandible\n",
      "parotid_l\n",
      "parotid_r\n",
      "spinalcord\n",
      "Loading images for T2 3D Tra 2min at \n",
      " Final\\2278732249\\2min_real\n",
      "\n",
      "6min_real\n",
      "Final\\2278732249\\6min_real\n"
     ]
    },
    {
     "name": "stderr",
     "output_type": "stream",
     "text": [
      "\r",
      "Loading through DICOM files:   0%|                                                               | 0/1 [00:00<?, ?it/s]"
     ]
    },
    {
     "name": "stdout",
     "output_type": "stream",
     "text": [
      "Loading from Final\\2278732249\\6min_real\n"
     ]
    },
    {
     "name": "stderr",
     "output_type": "stream",
     "text": [
      "Loading through DICOM files: 100%|███████████████████████████████████████████████████████| 1/1 [00:03<00:00,  3.42s/it]\n"
     ]
    },
    {
     "name": "stdout",
     "output_type": "stream",
     "text": [
      "Compiling dictionaries together...\n",
      "Index 0, description T2 3D Tra  at Final\\2278732249\\6min_real\n",
      "1 unique series IDs were found. Default is index 0, to change use set_index(index)\n",
      "The following ROIs were found\n",
      "brainstem\n",
      "glnd_submand_l\n",
      "glnd_submand_r\n",
      "bone_mandible\n",
      "parotid_l\n",
      "parotid_r\n",
      "spinalcord\n",
      "Loading images for T2 3D Tra  at \n",
      " Final\\2278732249\\6min_real\n",
      "\n",
      "6min_real_N4\n",
      "Final\\2278732249\\6min_real_N4\n"
     ]
    },
    {
     "name": "stderr",
     "output_type": "stream",
     "text": [
      "\r",
      "Loading through DICOM files:   0%|                                                               | 0/1 [00:00<?, ?it/s]"
     ]
    },
    {
     "name": "stdout",
     "output_type": "stream",
     "text": [
      "Loading from Final\\2278732249\\6min_real_N4\n"
     ]
    },
    {
     "name": "stderr",
     "output_type": "stream",
     "text": [
      "Loading through DICOM files: 100%|███████████████████████████████████████████████████████| 1/1 [00:13<00:00, 13.06s/it]\n"
     ]
    },
    {
     "name": "stdout",
     "output_type": "stream",
     "text": [
      "Compiling dictionaries together...\n",
      "Index 0, description None at Final\\2278732249\\6min_real_N4\n",
      "1 unique series IDs were found. Default is index 0, to change use set_index(index)\n",
      "The following ROIs were found\n",
      "Loading images for None at \n",
      " Final\\2278732249\\6min_real_N4\n",
      "\n",
      "6min_synthetic\n",
      "Final\\2278732249\\6min_synthetic\n"
     ]
    },
    {
     "name": "stderr",
     "output_type": "stream",
     "text": [
      "\r",
      "Loading through DICOM files:   0%|                                                               | 0/1 [00:00<?, ?it/s]"
     ]
    },
    {
     "name": "stdout",
     "output_type": "stream",
     "text": [
      "Loading from Final\\2278732249\\6min_synthetic\n"
     ]
    },
    {
     "name": "stderr",
     "output_type": "stream",
     "text": [
      "Loading through DICOM files: 100%|███████████████████████████████████████████████████████| 1/1 [00:02<00:00,  2.75s/it]\n"
     ]
    },
    {
     "name": "stdout",
     "output_type": "stream",
     "text": [
      "Compiling dictionaries together...\n",
      "Index 0, description  at Final\\2278732249\\6min_synthetic\n",
      "1 unique series IDs were found. Default is index 0, to change use set_index(index)\n",
      "The following ROIs were found\n",
      "brainstem\n",
      "glnd_submand_l\n",
      "glnd_submand_r\n",
      "bone_mandible\n",
      "parotid_l\n",
      "parotid_r\n",
      "spinalcord\n",
      "Loading images for  at \n",
      " Final\\2278732249\\6min_synthetic\n",
      "\n",
      "6min_synthetic_N4\n",
      "Final\\2278732249\\6min_synthetic_N4\n"
     ]
    },
    {
     "name": "stderr",
     "output_type": "stream",
     "text": [
      "\r",
      "Loading through DICOM files:   0%|                                                               | 0/1 [00:00<?, ?it/s]"
     ]
    },
    {
     "name": "stdout",
     "output_type": "stream",
     "text": [
      "Loading from Final\\2278732249\\6min_synthetic_N4\n"
     ]
    },
    {
     "name": "stderr",
     "output_type": "stream",
     "text": [
      "Loading through DICOM files: 100%|███████████████████████████████████████████████████████| 1/1 [00:02<00:00,  2.60s/it]\n"
     ]
    },
    {
     "name": "stdout",
     "output_type": "stream",
     "text": [
      "Compiling dictionaries together...\n",
      "Index 0, description  at Final\\2278732249\\6min_synthetic_N4\n",
      "1 unique series IDs were found. Default is index 0, to change use set_index(index)\n",
      "The following ROIs were found\n",
      "brainstem\n",
      "glnd_submand_l\n",
      "glnd_submand_r\n",
      "bone_mandible\n",
      "parotid_l\n",
      "parotid_r\n",
      "spinalcord\n",
      "Loading images for  at \n",
      " Final\\2278732249\\6min_synthetic_N4\n",
      "\n",
      "2326610791\n",
      "2min_real\n",
      "Final\\2326610791\\2min_real\n"
     ]
    },
    {
     "name": "stderr",
     "output_type": "stream",
     "text": [
      "\r",
      "Loading through DICOM files:   0%|                                                               | 0/1 [00:00<?, ?it/s]"
     ]
    },
    {
     "name": "stdout",
     "output_type": "stream",
     "text": [
      "Loading from Final\\2326610791\\2min_real\n"
     ]
    },
    {
     "name": "stderr",
     "output_type": "stream",
     "text": [
      "Loading through DICOM files: 100%|███████████████████████████████████████████████████████| 1/1 [00:03<00:00,  3.51s/it]\n"
     ]
    },
    {
     "name": "stdout",
     "output_type": "stream",
     "text": [
      "Compiling dictionaries together...\n",
      "Index 0, description T2 3D Tra 2min at Final\\2326610791\\2min_real\n",
      "1 unique series IDs were found. Default is index 0, to change use set_index(index)\n",
      "The following ROIs were found\n",
      "brainstem\n",
      "glnd_submand_l\n",
      "glnd_submand_r\n",
      "bone_mandible\n",
      "parotid_l\n",
      "parotid_r\n",
      "spinalcord\n",
      "Loading images for T2 3D Tra 2min at \n",
      " Final\\2326610791\\2min_real\n",
      "\n",
      "6min_real\n",
      "Final\\2326610791\\6min_real\n"
     ]
    },
    {
     "name": "stderr",
     "output_type": "stream",
     "text": [
      "\r",
      "Loading through DICOM files:   0%|                                                               | 0/1 [00:00<?, ?it/s]"
     ]
    },
    {
     "name": "stdout",
     "output_type": "stream",
     "text": [
      "Loading from Final\\2326610791\\6min_real\n"
     ]
    },
    {
     "name": "stderr",
     "output_type": "stream",
     "text": [
      "Loading through DICOM files: 100%|███████████████████████████████████████████████████████| 1/1 [00:03<00:00,  3.59s/it]\n"
     ]
    },
    {
     "name": "stdout",
     "output_type": "stream",
     "text": [
      "Compiling dictionaries together...\n",
      "Index 0, description T2 3D Tra  at Final\\2326610791\\6min_real\n",
      "1 unique series IDs were found. Default is index 0, to change use set_index(index)\n",
      "The following ROIs were found\n",
      "brainstem\n",
      "glnd_submand_l\n",
      "glnd_submand_r\n",
      "bone_mandible\n",
      "parotid_l\n",
      "parotid_r\n",
      "spinalcord\n",
      "Loading images for T2 3D Tra  at \n",
      " Final\\2326610791\\6min_real\n",
      "\n",
      "6min_real_N4\n",
      "Final\\2326610791\\6min_real_N4\n"
     ]
    },
    {
     "name": "stderr",
     "output_type": "stream",
     "text": [
      "\r",
      "Loading through DICOM files:   0%|                                                               | 0/1 [00:00<?, ?it/s]"
     ]
    },
    {
     "name": "stdout",
     "output_type": "stream",
     "text": [
      "Loading from Final\\2326610791\\6min_real_N4\n"
     ]
    },
    {
     "name": "stderr",
     "output_type": "stream",
     "text": [
      "Loading through DICOM files: 100%|███████████████████████████████████████████████████████| 1/1 [00:13<00:00, 13.08s/it]\n"
     ]
    },
    {
     "name": "stdout",
     "output_type": "stream",
     "text": [
      "Compiling dictionaries together...\n",
      "Index 0, description None at Final\\2326610791\\6min_real_N4\n",
      "1 unique series IDs were found. Default is index 0, to change use set_index(index)\n",
      "The following ROIs were found\n",
      "Loading images for None at \n",
      " Final\\2326610791\\6min_real_N4\n",
      "\n",
      "6min_synthetic\n",
      "Final\\2326610791\\6min_synthetic\n"
     ]
    },
    {
     "name": "stderr",
     "output_type": "stream",
     "text": [
      "\r",
      "Loading through DICOM files:   0%|                                                               | 0/1 [00:00<?, ?it/s]"
     ]
    },
    {
     "name": "stdout",
     "output_type": "stream",
     "text": [
      "Loading from Final\\2326610791\\6min_synthetic\n"
     ]
    },
    {
     "name": "stderr",
     "output_type": "stream",
     "text": [
      "Loading through DICOM files: 100%|███████████████████████████████████████████████████████| 1/1 [00:02<00:00,  2.18s/it]\n"
     ]
    },
    {
     "name": "stdout",
     "output_type": "stream",
     "text": [
      "Compiling dictionaries together...\n",
      "Index 0, description  at Final\\2326610791\\6min_synthetic\n",
      "1 unique series IDs were found. Default is index 0, to change use set_index(index)\n",
      "The following ROIs were found\n",
      "brainstem\n",
      "glnd_submand_l\n",
      "glnd_submand_r\n",
      "bone_mandible\n",
      "parotid_l\n",
      "parotid_r\n",
      "spinalcord\n",
      "Loading images for  at \n",
      " Final\\2326610791\\6min_synthetic\n",
      "\n",
      "6min_synthetic_N4\n",
      "Final\\2326610791\\6min_synthetic_N4\n"
     ]
    },
    {
     "name": "stderr",
     "output_type": "stream",
     "text": [
      "\r",
      "Loading through DICOM files:   0%|                                                               | 0/1 [00:00<?, ?it/s]"
     ]
    },
    {
     "name": "stdout",
     "output_type": "stream",
     "text": [
      "Loading from Final\\2326610791\\6min_synthetic_N4\n"
     ]
    },
    {
     "name": "stderr",
     "output_type": "stream",
     "text": [
      "Loading through DICOM files: 100%|███████████████████████████████████████████████████████| 1/1 [00:02<00:00,  2.46s/it]\n"
     ]
    },
    {
     "name": "stdout",
     "output_type": "stream",
     "text": [
      "Compiling dictionaries together...\n",
      "Index 0, description  at Final\\2326610791\\6min_synthetic_N4\n",
      "1 unique series IDs were found. Default is index 0, to change use set_index(index)\n",
      "The following ROIs were found\n",
      "brainstem\n",
      "glnd_submand_l\n",
      "glnd_submand_r\n",
      "bone_mandible\n",
      "parotid_l\n",
      "parotid_r\n",
      "spinalcord\n",
      "Loading images for  at \n",
      " Final\\2326610791\\6min_synthetic_N4\n",
      "\n",
      "2589026023\n",
      "2min_real\n",
      "Final\\2589026023\\2min_real\n"
     ]
    },
    {
     "name": "stderr",
     "output_type": "stream",
     "text": [
      "\r",
      "Loading through DICOM files:   0%|                                                               | 0/1 [00:00<?, ?it/s]"
     ]
    },
    {
     "name": "stdout",
     "output_type": "stream",
     "text": [
      "Loading from Final\\2589026023\\2min_real\n"
     ]
    },
    {
     "name": "stderr",
     "output_type": "stream",
     "text": [
      "Loading through DICOM files: 100%|███████████████████████████████████████████████████████| 1/1 [00:03<00:00,  3.64s/it]\n"
     ]
    },
    {
     "name": "stdout",
     "output_type": "stream",
     "text": [
      "Compiling dictionaries together...\n",
      "Index 0, description T2 3D Tra 2min at Final\\2589026023\\2min_real\n",
      "1 unique series IDs were found. Default is index 0, to change use set_index(index)\n",
      "The following ROIs were found\n",
      "brainstem\n",
      "glnd_submand_l\n",
      "glnd_submand_r\n",
      "bone_mandible\n",
      "parotid_l\n",
      "parotid_r\n",
      "spinalcord\n",
      "Loading images for T2 3D Tra 2min at \n",
      " Final\\2589026023\\2min_real\n",
      "\n",
      "6min_real\n",
      "Final\\2589026023\\6min_real\n"
     ]
    },
    {
     "name": "stderr",
     "output_type": "stream",
     "text": [
      "\r",
      "Loading through DICOM files:   0%|                                                               | 0/1 [00:00<?, ?it/s]"
     ]
    },
    {
     "name": "stdout",
     "output_type": "stream",
     "text": [
      "Loading from Final\\2589026023\\6min_real\n"
     ]
    },
    {
     "name": "stderr",
     "output_type": "stream",
     "text": [
      "Loading through DICOM files: 100%|███████████████████████████████████████████████████████| 1/1 [00:03<00:00,  3.95s/it]\n"
     ]
    },
    {
     "name": "stdout",
     "output_type": "stream",
     "text": [
      "Compiling dictionaries together...\n",
      "Index 0, description T2 3D Tra  at Final\\2589026023\\6min_real\n",
      "1 unique series IDs were found. Default is index 0, to change use set_index(index)\n",
      "The following ROIs were found\n",
      "brainstem\n",
      "glnd_submand_l\n",
      "glnd_submand_r\n",
      "bone_mandible\n",
      "parotid_l\n",
      "parotid_r\n",
      "spinalcord\n",
      "Loading images for T2 3D Tra  at \n",
      " Final\\2589026023\\6min_real\n",
      "\n",
      "6min_real_N4\n",
      "Final\\2589026023\\6min_real_N4\n"
     ]
    },
    {
     "name": "stderr",
     "output_type": "stream",
     "text": [
      "\r",
      "Loading through DICOM files:   0%|                                                               | 0/1 [00:00<?, ?it/s]"
     ]
    },
    {
     "name": "stdout",
     "output_type": "stream",
     "text": [
      "Loading from Final\\2589026023\\6min_real_N4\n"
     ]
    },
    {
     "name": "stderr",
     "output_type": "stream",
     "text": [
      "Loading through DICOM files: 100%|███████████████████████████████████████████████████████| 1/1 [00:12<00:00, 12.69s/it]\n"
     ]
    },
    {
     "name": "stdout",
     "output_type": "stream",
     "text": [
      "Compiling dictionaries together...\n",
      "Index 0, description None at Final\\2589026023\\6min_real_N4\n",
      "1 unique series IDs were found. Default is index 0, to change use set_index(index)\n",
      "The following ROIs were found\n",
      "Loading images for None at \n",
      " Final\\2589026023\\6min_real_N4\n",
      "\n",
      "6min_synthetic\n",
      "Final\\2589026023\\6min_synthetic\n"
     ]
    },
    {
     "name": "stderr",
     "output_type": "stream",
     "text": [
      "\r",
      "Loading through DICOM files:   0%|                                                               | 0/1 [00:00<?, ?it/s]"
     ]
    },
    {
     "name": "stdout",
     "output_type": "stream",
     "text": [
      "Loading from Final\\2589026023\\6min_synthetic\n"
     ]
    },
    {
     "name": "stderr",
     "output_type": "stream",
     "text": [
      "Loading through DICOM files: 100%|███████████████████████████████████████████████████████| 1/1 [00:03<00:00,  3.18s/it]\n"
     ]
    },
    {
     "name": "stdout",
     "output_type": "stream",
     "text": [
      "Compiling dictionaries together...\n",
      "Index 0, description  at Final\\2589026023\\6min_synthetic\n",
      "1 unique series IDs were found. Default is index 0, to change use set_index(index)\n",
      "The following ROIs were found\n",
      "brainstem\n",
      "glnd_submand_l\n",
      "glnd_submand_r\n",
      "bone_mandible\n",
      "parotid_l\n",
      "parotid_r\n",
      "spinalcord\n",
      "Loading images for  at \n",
      " Final\\2589026023\\6min_synthetic\n",
      "\n",
      "6min_synthetic_N4\n",
      "Final\\2589026023\\6min_synthetic_N4\n"
     ]
    },
    {
     "name": "stderr",
     "output_type": "stream",
     "text": [
      "\r",
      "Loading through DICOM files:   0%|                                                               | 0/1 [00:00<?, ?it/s]"
     ]
    },
    {
     "name": "stdout",
     "output_type": "stream",
     "text": [
      "Loading from Final\\2589026023\\6min_synthetic_N4\n"
     ]
    },
    {
     "name": "stderr",
     "output_type": "stream",
     "text": [
      "Loading through DICOM files: 100%|███████████████████████████████████████████████████████| 1/1 [00:02<00:00,  2.53s/it]\n"
     ]
    },
    {
     "name": "stdout",
     "output_type": "stream",
     "text": [
      "Compiling dictionaries together...\n",
      "Index 0, description  at Final\\2589026023\\6min_synthetic_N4\n",
      "1 unique series IDs were found. Default is index 0, to change use set_index(index)\n",
      "The following ROIs were found\n",
      "brainstem\n",
      "glnd_submand_l\n",
      "glnd_submand_r\n",
      "bone_mandible\n",
      "parotid_l\n",
      "parotid_r\n",
      "spinalcord\n",
      "Loading images for  at \n",
      " Final\\2589026023\\6min_synthetic_N4\n",
      "\n",
      "3244262639\n",
      "2min_real\n",
      "Final\\3244262639\\2min_real\n"
     ]
    },
    {
     "name": "stderr",
     "output_type": "stream",
     "text": [
      "\r",
      "Loading through DICOM files:   0%|                                                               | 0/1 [00:00<?, ?it/s]"
     ]
    },
    {
     "name": "stdout",
     "output_type": "stream",
     "text": [
      "Loading from Final\\3244262639\\2min_real\n"
     ]
    },
    {
     "name": "stderr",
     "output_type": "stream",
     "text": [
      "Loading through DICOM files: 100%|███████████████████████████████████████████████████████| 1/1 [00:03<00:00,  3.63s/it]\n"
     ]
    },
    {
     "name": "stdout",
     "output_type": "stream",
     "text": [
      "Compiling dictionaries together...\n",
      "Index 0, description T2 3D Tra 2min at Final\\3244262639\\2min_real\n",
      "1 unique series IDs were found. Default is index 0, to change use set_index(index)\n",
      "The following ROIs were found\n",
      "brainstem\n",
      "glnd_submand_l\n",
      "glnd_submand_r\n",
      "bone_mandible\n",
      "parotid_l\n",
      "parotid_r\n",
      "spinalcord\n",
      "Loading images for T2 3D Tra 2min at \n",
      " Final\\3244262639\\2min_real\n",
      "\n",
      "6min_real\n",
      "Final\\3244262639\\6min_real\n"
     ]
    },
    {
     "name": "stderr",
     "output_type": "stream",
     "text": [
      "\r",
      "Loading through DICOM files:   0%|                                                               | 0/1 [00:00<?, ?it/s]"
     ]
    },
    {
     "name": "stdout",
     "output_type": "stream",
     "text": [
      "Loading from Final\\3244262639\\6min_real\n"
     ]
    },
    {
     "name": "stderr",
     "output_type": "stream",
     "text": [
      "Loading through DICOM files: 100%|███████████████████████████████████████████████████████| 1/1 [00:03<00:00,  3.58s/it]\n"
     ]
    },
    {
     "name": "stdout",
     "output_type": "stream",
     "text": [
      "Compiling dictionaries together...\n",
      "Index 0, description T2 3D Tra  at Final\\3244262639\\6min_real\n",
      "1 unique series IDs were found. Default is index 0, to change use set_index(index)\n",
      "The following ROIs were found\n",
      "brainstem\n",
      "glnd_submand_l\n",
      "glnd_submand_r\n",
      "bone_mandible\n",
      "parotid_l\n",
      "parotid_r\n",
      "spinalcord\n",
      "Loading images for T2 3D Tra  at \n",
      " Final\\3244262639\\6min_real\n",
      "\n",
      "6min_real_N4\n",
      "Final\\3244262639\\6min_real_N4\n"
     ]
    },
    {
     "name": "stderr",
     "output_type": "stream",
     "text": [
      "\r",
      "Loading through DICOM files:   0%|                                                               | 0/1 [00:00<?, ?it/s]"
     ]
    },
    {
     "name": "stdout",
     "output_type": "stream",
     "text": [
      "Loading from Final\\3244262639\\6min_real_N4\n"
     ]
    },
    {
     "name": "stderr",
     "output_type": "stream",
     "text": [
      "Loading through DICOM files: 100%|███████████████████████████████████████████████████████| 1/1 [00:12<00:00, 12.38s/it]\n"
     ]
    },
    {
     "name": "stdout",
     "output_type": "stream",
     "text": [
      "Compiling dictionaries together...\n",
      "Index 0, description None at Final\\3244262639\\6min_real_N4\n",
      "1 unique series IDs were found. Default is index 0, to change use set_index(index)\n",
      "The following ROIs were found\n",
      "Loading images for None at \n",
      " Final\\3244262639\\6min_real_N4\n",
      "\n",
      "6min_synthetic\n",
      "Final\\3244262639\\6min_synthetic\n"
     ]
    },
    {
     "name": "stderr",
     "output_type": "stream",
     "text": [
      "\r",
      "Loading through DICOM files:   0%|                                                               | 0/1 [00:00<?, ?it/s]"
     ]
    },
    {
     "name": "stdout",
     "output_type": "stream",
     "text": [
      "Loading from Final\\3244262639\\6min_synthetic\n"
     ]
    },
    {
     "name": "stderr",
     "output_type": "stream",
     "text": [
      "Loading through DICOM files: 100%|███████████████████████████████████████████████████████| 1/1 [00:02<00:00,  2.61s/it]\n"
     ]
    },
    {
     "name": "stdout",
     "output_type": "stream",
     "text": [
      "Compiling dictionaries together...\n",
      "Index 0, description  at Final\\3244262639\\6min_synthetic\n",
      "1 unique series IDs were found. Default is index 0, to change use set_index(index)\n",
      "The following ROIs were found\n",
      "brainstem\n",
      "glnd_submand_l\n",
      "glnd_submand_r\n",
      "bone_mandible\n",
      "parotid_l\n",
      "parotid_r\n",
      "spinalcord\n",
      "Loading images for  at \n",
      " Final\\3244262639\\6min_synthetic\n",
      "\n",
      "6min_synthetic_N4\n",
      "Final\\3244262639\\6min_synthetic_N4\n"
     ]
    },
    {
     "name": "stderr",
     "output_type": "stream",
     "text": [
      "\r",
      "Loading through DICOM files:   0%|                                                               | 0/1 [00:00<?, ?it/s]"
     ]
    },
    {
     "name": "stdout",
     "output_type": "stream",
     "text": [
      "Loading from Final\\3244262639\\6min_synthetic_N4\n"
     ]
    },
    {
     "name": "stderr",
     "output_type": "stream",
     "text": [
      "Loading through DICOM files: 100%|███████████████████████████████████████████████████████| 1/1 [00:02<00:00,  2.53s/it]\n"
     ]
    },
    {
     "name": "stdout",
     "output_type": "stream",
     "text": [
      "Compiling dictionaries together...\n",
      "Index 0, description  at Final\\3244262639\\6min_synthetic_N4\n",
      "1 unique series IDs were found. Default is index 0, to change use set_index(index)\n",
      "The following ROIs were found\n",
      "brainstem\n",
      "glnd_submand_l\n",
      "glnd_submand_r\n",
      "bone_mandible\n",
      "parotid_l\n",
      "parotid_r\n",
      "spinalcord\n",
      "Loading images for  at \n",
      " Final\\3244262639\\6min_synthetic_N4\n",
      "\n",
      "3337525186\n",
      "2min_real\n",
      "Final\\3337525186\\2min_real\n"
     ]
    },
    {
     "name": "stderr",
     "output_type": "stream",
     "text": [
      "\r",
      "Loading through DICOM files:   0%|                                                               | 0/1 [00:00<?, ?it/s]"
     ]
    },
    {
     "name": "stdout",
     "output_type": "stream",
     "text": [
      "Loading from Final\\3337525186\\2min_real\n"
     ]
    },
    {
     "name": "stderr",
     "output_type": "stream",
     "text": [
      "Loading through DICOM files: 100%|███████████████████████████████████████████████████████| 1/1 [00:03<00:00,  3.58s/it]\n"
     ]
    },
    {
     "name": "stdout",
     "output_type": "stream",
     "text": [
      "Compiling dictionaries together...\n",
      "Index 0, description T2 3D Tra 2min at Final\\3337525186\\2min_real\n",
      "1 unique series IDs were found. Default is index 0, to change use set_index(index)\n",
      "The following ROIs were found\n",
      "brainstem\n",
      "glnd_submand_l\n",
      "glnd_submand_r\n",
      "bone_mandible\n",
      "parotid_l\n",
      "parotid_r\n",
      "spinalcord\n",
      "Loading images for T2 3D Tra 2min at \n",
      " Final\\3337525186\\2min_real\n",
      "\n",
      "6min_real\n",
      "Final\\3337525186\\6min_real\n"
     ]
    },
    {
     "name": "stderr",
     "output_type": "stream",
     "text": [
      "\r",
      "Loading through DICOM files:   0%|                                                               | 0/1 [00:00<?, ?it/s]"
     ]
    },
    {
     "name": "stdout",
     "output_type": "stream",
     "text": [
      "Loading from Final\\3337525186\\6min_real\n"
     ]
    },
    {
     "name": "stderr",
     "output_type": "stream",
     "text": [
      "Loading through DICOM files: 100%|███████████████████████████████████████████████████████| 1/1 [00:03<00:00,  3.47s/it]\n"
     ]
    },
    {
     "name": "stdout",
     "output_type": "stream",
     "text": [
      "Compiling dictionaries together...\n",
      "Index 0, description T2 3D Tra  at Final\\3337525186\\6min_real\n",
      "1 unique series IDs were found. Default is index 0, to change use set_index(index)\n",
      "The following ROIs were found\n",
      "brainstem\n",
      "glnd_submand_l\n",
      "glnd_submand_r\n",
      "bone_mandible\n",
      "parotid_l\n",
      "parotid_r\n",
      "spinalcord\n",
      "Loading images for T2 3D Tra  at \n",
      " Final\\3337525186\\6min_real\n",
      "\n",
      "6min_real_N4\n",
      "Final\\3337525186\\6min_real_N4\n"
     ]
    },
    {
     "name": "stderr",
     "output_type": "stream",
     "text": [
      "\r",
      "Loading through DICOM files:   0%|                                                               | 0/1 [00:00<?, ?it/s]"
     ]
    },
    {
     "name": "stdout",
     "output_type": "stream",
     "text": [
      "Loading from Final\\3337525186\\6min_real_N4\n"
     ]
    },
    {
     "name": "stderr",
     "output_type": "stream",
     "text": [
      "Loading through DICOM files: 100%|███████████████████████████████████████████████████████| 1/1 [00:13<00:00, 13.42s/it]\n"
     ]
    },
    {
     "name": "stdout",
     "output_type": "stream",
     "text": [
      "Compiling dictionaries together...\n",
      "Index 0, description None at Final\\3337525186\\6min_real_N4\n",
      "1 unique series IDs were found. Default is index 0, to change use set_index(index)\n",
      "The following ROIs were found\n",
      "Loading images for None at \n",
      " Final\\3337525186\\6min_real_N4\n",
      "\n",
      "6min_synthetic\n",
      "Final\\3337525186\\6min_synthetic\n"
     ]
    },
    {
     "name": "stderr",
     "output_type": "stream",
     "text": [
      "\r",
      "Loading through DICOM files:   0%|                                                               | 0/1 [00:00<?, ?it/s]"
     ]
    },
    {
     "name": "stdout",
     "output_type": "stream",
     "text": [
      "Loading from Final\\3337525186\\6min_synthetic\n"
     ]
    },
    {
     "name": "stderr",
     "output_type": "stream",
     "text": [
      "Loading through DICOM files: 100%|███████████████████████████████████████████████████████| 1/1 [00:02<00:00,  2.53s/it]\n"
     ]
    },
    {
     "name": "stdout",
     "output_type": "stream",
     "text": [
      "Compiling dictionaries together...\n",
      "Index 0, description  at Final\\3337525186\\6min_synthetic\n",
      "1 unique series IDs were found. Default is index 0, to change use set_index(index)\n",
      "The following ROIs were found\n",
      "brainstem\n",
      "glnd_submand_l\n",
      "glnd_submand_r\n",
      "bone_mandible\n",
      "parotid_l\n",
      "parotid_r\n",
      "spinalcord\n",
      "Loading images for  at \n",
      " Final\\3337525186\\6min_synthetic\n",
      "\n",
      "6min_synthetic_N4\n",
      "Final\\3337525186\\6min_synthetic_N4\n"
     ]
    },
    {
     "name": "stderr",
     "output_type": "stream",
     "text": [
      "\r",
      "Loading through DICOM files:   0%|                                                               | 0/1 [00:00<?, ?it/s]"
     ]
    },
    {
     "name": "stdout",
     "output_type": "stream",
     "text": [
      "Loading from Final\\3337525186\\6min_synthetic_N4\n"
     ]
    },
    {
     "name": "stderr",
     "output_type": "stream",
     "text": [
      "Loading through DICOM files: 100%|███████████████████████████████████████████████████████| 1/1 [00:02<00:00,  2.57s/it]\n"
     ]
    },
    {
     "name": "stdout",
     "output_type": "stream",
     "text": [
      "Compiling dictionaries together...\n",
      "Index 0, description  at Final\\3337525186\\6min_synthetic_N4\n",
      "1 unique series IDs were found. Default is index 0, to change use set_index(index)\n",
      "The following ROIs were found\n",
      "brainstem\n",
      "glnd_submand_l\n",
      "glnd_submand_r\n",
      "bone_mandible\n",
      "parotid_l\n",
      "parotid_r\n",
      "spinalcord\n",
      "Loading images for  at \n",
      " Final\\3337525186\\6min_synthetic_N4\n",
      "\n",
      "3376193121\n",
      "2min_real\n",
      "Final\\3376193121\\2min_real\n"
     ]
    },
    {
     "name": "stderr",
     "output_type": "stream",
     "text": [
      "\r",
      "Loading through DICOM files:   0%|                                                               | 0/1 [00:00<?, ?it/s]"
     ]
    },
    {
     "name": "stdout",
     "output_type": "stream",
     "text": [
      "Loading from Final\\3376193121\\2min_real\n"
     ]
    },
    {
     "name": "stderr",
     "output_type": "stream",
     "text": [
      "Loading through DICOM files: 100%|███████████████████████████████████████████████████████| 1/1 [00:03<00:00,  3.56s/it]\n"
     ]
    },
    {
     "name": "stdout",
     "output_type": "stream",
     "text": [
      "Compiling dictionaries together...\n",
      "Index 0, description T2 3D Tra 2min at Final\\3376193121\\2min_real\n",
      "1 unique series IDs were found. Default is index 0, to change use set_index(index)\n",
      "The following ROIs were found\n",
      "brainstem\n",
      "glnd_submand_l\n",
      "glnd_submand_r\n",
      "bone_mandible\n",
      "parotid_l\n",
      "parotid_r\n",
      "spinalcord\n",
      "Loading images for T2 3D Tra 2min at \n",
      " Final\\3376193121\\2min_real\n",
      "\n",
      "6min_real\n",
      "Final\\3376193121\\6min_real\n"
     ]
    },
    {
     "name": "stderr",
     "output_type": "stream",
     "text": [
      "\r",
      "Loading through DICOM files:   0%|                                                               | 0/1 [00:00<?, ?it/s]"
     ]
    },
    {
     "name": "stdout",
     "output_type": "stream",
     "text": [
      "Loading from Final\\3376193121\\6min_real\n"
     ]
    },
    {
     "name": "stderr",
     "output_type": "stream",
     "text": [
      "Loading through DICOM files: 100%|███████████████████████████████████████████████████████| 1/1 [00:03<00:00,  3.81s/it]\n"
     ]
    },
    {
     "name": "stdout",
     "output_type": "stream",
     "text": [
      "Compiling dictionaries together...\n",
      "Index 0, description T2 3D Tra  at Final\\3376193121\\6min_real\n",
      "1 unique series IDs were found. Default is index 0, to change use set_index(index)\n",
      "The following ROIs were found\n",
      "brainstem\n",
      "glnd_submand_l\n",
      "glnd_submand_r\n",
      "bone_mandible\n",
      "parotid_l\n",
      "parotid_r\n",
      "spinalcord\n",
      "Loading images for T2 3D Tra  at \n",
      " Final\\3376193121\\6min_real\n",
      "\n",
      "6min_real_N4\n",
      "Final\\3376193121\\6min_real_N4\n"
     ]
    },
    {
     "name": "stderr",
     "output_type": "stream",
     "text": [
      "\r",
      "Loading through DICOM files:   0%|                                                               | 0/1 [00:00<?, ?it/s]"
     ]
    },
    {
     "name": "stdout",
     "output_type": "stream",
     "text": [
      "Loading from Final\\3376193121\\6min_real_N4\n"
     ]
    },
    {
     "name": "stderr",
     "output_type": "stream",
     "text": [
      "Loading through DICOM files: 100%|███████████████████████████████████████████████████████| 1/1 [00:12<00:00, 12.28s/it]\n"
     ]
    },
    {
     "name": "stdout",
     "output_type": "stream",
     "text": [
      "Compiling dictionaries together...\n",
      "Index 0, description None at Final\\3376193121\\6min_real_N4\n",
      "1 unique series IDs were found. Default is index 0, to change use set_index(index)\n",
      "The following ROIs were found\n",
      "Loading images for None at \n",
      " Final\\3376193121\\6min_real_N4\n",
      "\n",
      "6min_synthetic\n",
      "Final\\3376193121\\6min_synthetic\n"
     ]
    },
    {
     "name": "stderr",
     "output_type": "stream",
     "text": [
      "\r",
      "Loading through DICOM files:   0%|                                                               | 0/1 [00:00<?, ?it/s]"
     ]
    },
    {
     "name": "stdout",
     "output_type": "stream",
     "text": [
      "Loading from Final\\3376193121\\6min_synthetic\n"
     ]
    },
    {
     "name": "stderr",
     "output_type": "stream",
     "text": [
      "Loading through DICOM files: 100%|███████████████████████████████████████████████████████| 1/1 [00:03<00:00,  3.25s/it]\n"
     ]
    },
    {
     "name": "stdout",
     "output_type": "stream",
     "text": [
      "Compiling dictionaries together...\n",
      "Index 0, description  at Final\\3376193121\\6min_synthetic\n",
      "1 unique series IDs were found. Default is index 0, to change use set_index(index)\n",
      "The following ROIs were found\n",
      "brainstem\n",
      "glnd_submand_l\n",
      "glnd_submand_r\n",
      "bone_mandible\n",
      "parotid_l\n",
      "parotid_r\n",
      "spinalcord\n",
      "Loading images for  at \n",
      " Final\\3376193121\\6min_synthetic\n",
      "\n",
      "6min_synthetic_N4\n",
      "Final\\3376193121\\6min_synthetic_N4\n"
     ]
    },
    {
     "name": "stderr",
     "output_type": "stream",
     "text": [
      "\r",
      "Loading through DICOM files:   0%|                                                               | 0/1 [00:00<?, ?it/s]"
     ]
    },
    {
     "name": "stdout",
     "output_type": "stream",
     "text": [
      "Loading from Final\\3376193121\\6min_synthetic_N4\n"
     ]
    },
    {
     "name": "stderr",
     "output_type": "stream",
     "text": [
      "Loading through DICOM files: 100%|███████████████████████████████████████████████████████| 1/1 [00:02<00:00,  2.52s/it]\n"
     ]
    },
    {
     "name": "stdout",
     "output_type": "stream",
     "text": [
      "Compiling dictionaries together...\n",
      "Index 0, description  at Final\\3376193121\\6min_synthetic_N4\n",
      "1 unique series IDs were found. Default is index 0, to change use set_index(index)\n",
      "The following ROIs were found\n",
      "brainstem\n",
      "glnd_submand_l\n",
      "glnd_submand_r\n",
      "bone_mandible\n",
      "parotid_l\n",
      "parotid_r\n",
      "spinalcord\n",
      "Loading images for  at \n",
      " Final\\3376193121\\6min_synthetic_N4\n",
      "\n",
      "3376859407\n",
      "2min_real\n",
      "Final\\3376859407\\2min_real\n"
     ]
    },
    {
     "name": "stderr",
     "output_type": "stream",
     "text": [
      "\r",
      "Loading through DICOM files:   0%|                                                               | 0/1 [00:00<?, ?it/s]"
     ]
    },
    {
     "name": "stdout",
     "output_type": "stream",
     "text": [
      "Loading from Final\\3376859407\\2min_real\n"
     ]
    },
    {
     "name": "stderr",
     "output_type": "stream",
     "text": [
      "Loading through DICOM files: 100%|███████████████████████████████████████████████████████| 1/1 [00:03<00:00,  3.66s/it]\n"
     ]
    },
    {
     "name": "stdout",
     "output_type": "stream",
     "text": [
      "Compiling dictionaries together...\n",
      "Index 0, description T2 3D Tra 2min at Final\\3376859407\\2min_real\n",
      "1 unique series IDs were found. Default is index 0, to change use set_index(index)\n",
      "The following ROIs were found\n",
      "brainstem\n",
      "glnd_submand_l\n",
      "glnd_submand_r\n",
      "bone_mandible\n",
      "parotid_l\n",
      "parotid_r\n",
      "spinalcord\n",
      "Loading images for T2 3D Tra 2min at \n",
      " Final\\3376859407\\2min_real\n",
      "\n",
      "6min_real\n",
      "Final\\3376859407\\6min_real\n"
     ]
    },
    {
     "name": "stderr",
     "output_type": "stream",
     "text": [
      "\r",
      "Loading through DICOM files:   0%|                                                               | 0/1 [00:00<?, ?it/s]"
     ]
    },
    {
     "name": "stdout",
     "output_type": "stream",
     "text": [
      "Loading from Final\\3376859407\\6min_real\n"
     ]
    },
    {
     "name": "stderr",
     "output_type": "stream",
     "text": [
      "Loading through DICOM files: 100%|███████████████████████████████████████████████████████| 1/1 [00:03<00:00,  3.50s/it]\n"
     ]
    },
    {
     "name": "stdout",
     "output_type": "stream",
     "text": [
      "Compiling dictionaries together...\n",
      "Index 0, description T2 3D Tra  at Final\\3376859407\\6min_real\n",
      "1 unique series IDs were found. Default is index 0, to change use set_index(index)\n",
      "The following ROIs were found\n",
      "brainstem\n",
      "glnd_submand_l\n",
      "glnd_submand_r\n",
      "bone_mandible\n",
      "parotid_l\n",
      "parotid_r\n",
      "spinalcord\n",
      "Loading images for T2 3D Tra  at \n",
      " Final\\3376859407\\6min_real\n",
      "\n",
      "6min_real_N4\n",
      "Final\\3376859407\\6min_real_N4\n"
     ]
    },
    {
     "name": "stderr",
     "output_type": "stream",
     "text": [
      "\r",
      "Loading through DICOM files:   0%|                                                               | 0/1 [00:00<?, ?it/s]"
     ]
    },
    {
     "name": "stdout",
     "output_type": "stream",
     "text": [
      "Loading from Final\\3376859407\\6min_real_N4\n"
     ]
    },
    {
     "name": "stderr",
     "output_type": "stream",
     "text": [
      "Loading through DICOM files: 100%|███████████████████████████████████████████████████████| 1/1 [00:12<00:00, 12.66s/it]\n"
     ]
    },
    {
     "name": "stdout",
     "output_type": "stream",
     "text": [
      "Compiling dictionaries together...\n",
      "Index 0, description None at Final\\3376859407\\6min_real_N4\n",
      "1 unique series IDs were found. Default is index 0, to change use set_index(index)\n",
      "The following ROIs were found\n",
      "Loading images for None at \n",
      " Final\\3376859407\\6min_real_N4\n",
      "\n",
      "6min_synthetic\n",
      "Final\\3376859407\\6min_synthetic\n"
     ]
    },
    {
     "name": "stderr",
     "output_type": "stream",
     "text": [
      "\r",
      "Loading through DICOM files:   0%|                                                               | 0/1 [00:00<?, ?it/s]"
     ]
    },
    {
     "name": "stdout",
     "output_type": "stream",
     "text": [
      "Loading from Final\\3376859407\\6min_synthetic\n"
     ]
    },
    {
     "name": "stderr",
     "output_type": "stream",
     "text": [
      "Loading through DICOM files: 100%|███████████████████████████████████████████████████████| 1/1 [00:02<00:00,  2.61s/it]\n"
     ]
    },
    {
     "name": "stdout",
     "output_type": "stream",
     "text": [
      "Compiling dictionaries together...\n",
      "Index 0, description  at Final\\3376859407\\6min_synthetic\n",
      "1 unique series IDs were found. Default is index 0, to change use set_index(index)\n",
      "The following ROIs were found\n",
      "brainstem\n",
      "glnd_submand_l\n",
      "glnd_submand_r\n",
      "bone_mandible\n",
      "parotid_l\n",
      "parotid_r\n",
      "spinalcord\n",
      "Loading images for  at \n",
      " Final\\3376859407\\6min_synthetic\n",
      "\n",
      "6min_synthetic_N4\n",
      "Final\\3376859407\\6min_synthetic_N4\n"
     ]
    },
    {
     "name": "stderr",
     "output_type": "stream",
     "text": [
      "\r",
      "Loading through DICOM files:   0%|                                                               | 0/1 [00:00<?, ?it/s]"
     ]
    },
    {
     "name": "stdout",
     "output_type": "stream",
     "text": [
      "Loading from Final\\3376859407\\6min_synthetic_N4\n"
     ]
    },
    {
     "name": "stderr",
     "output_type": "stream",
     "text": [
      "Loading through DICOM files: 100%|███████████████████████████████████████████████████████| 1/1 [00:03<00:00,  3.17s/it]\n"
     ]
    },
    {
     "name": "stdout",
     "output_type": "stream",
     "text": [
      "Compiling dictionaries together...\n",
      "Index 0, description  at Final\\3376859407\\6min_synthetic_N4\n",
      "1 unique series IDs were found. Default is index 0, to change use set_index(index)\n",
      "The following ROIs were found\n",
      "brainstem\n",
      "glnd_submand_l\n",
      "glnd_submand_r\n",
      "bone_mandible\n",
      "parotid_l\n",
      "parotid_r\n",
      "spinalcord\n",
      "Loading images for  at \n",
      " Final\\3376859407\\6min_synthetic_N4\n",
      "\n",
      "3641355426\n",
      "2min_real\n",
      "Final\\3641355426\\2min_real\n"
     ]
    },
    {
     "name": "stderr",
     "output_type": "stream",
     "text": [
      "\r",
      "Loading through DICOM files:   0%|                                                               | 0/1 [00:00<?, ?it/s]"
     ]
    },
    {
     "name": "stdout",
     "output_type": "stream",
     "text": [
      "Loading from Final\\3641355426\\2min_real\n"
     ]
    },
    {
     "name": "stderr",
     "output_type": "stream",
     "text": [
      "Loading through DICOM files: 100%|███████████████████████████████████████████████████████| 1/1 [00:03<00:00,  3.59s/it]\n"
     ]
    },
    {
     "name": "stdout",
     "output_type": "stream",
     "text": [
      "Compiling dictionaries together...\n",
      "Index 0, description T2 3D Tra 2min at Final\\3641355426\\2min_real\n",
      "1 unique series IDs were found. Default is index 0, to change use set_index(index)\n",
      "The following ROIs were found\n",
      "brainstem\n",
      "glnd_submand_l\n",
      "glnd_submand_r\n",
      "bone_mandible\n",
      "parotid_l\n",
      "parotid_r\n",
      "spinalcord\n",
      "Loading images for T2 3D Tra 2min at \n",
      " Final\\3641355426\\2min_real\n",
      "\n",
      "6min_real\n",
      "Final\\3641355426\\6min_real\n"
     ]
    },
    {
     "name": "stderr",
     "output_type": "stream",
     "text": [
      "\r",
      "Loading through DICOM files:   0%|                                                               | 0/1 [00:00<?, ?it/s]"
     ]
    },
    {
     "name": "stdout",
     "output_type": "stream",
     "text": [
      "Loading from Final\\3641355426\\6min_real\n"
     ]
    },
    {
     "name": "stderr",
     "output_type": "stream",
     "text": [
      "Loading through DICOM files: 100%|███████████████████████████████████████████████████████| 1/1 [00:04<00:00,  4.89s/it]\n"
     ]
    },
    {
     "name": "stdout",
     "output_type": "stream",
     "text": [
      "Compiling dictionaries together...\n",
      "Index 0, description T2 3D Tra  at Final\\3641355426\\6min_real\n",
      "1 unique series IDs were found. Default is index 0, to change use set_index(index)\n",
      "The following ROIs were found\n",
      "brainstem\n",
      "glnd_submand_l\n",
      "glnd_submand_r\n",
      "bone_mandible\n",
      "parotid_l\n",
      "parotid_r\n",
      "spinalcord\n",
      "Loading images for T2 3D Tra  at \n",
      " Final\\3641355426\\6min_real\n",
      "\n",
      "6min_real_N4\n",
      "Final\\3641355426\\6min_real_N4\n"
     ]
    },
    {
     "name": "stderr",
     "output_type": "stream",
     "text": [
      "\r",
      "Loading through DICOM files:   0%|                                                               | 0/1 [00:00<?, ?it/s]"
     ]
    },
    {
     "name": "stdout",
     "output_type": "stream",
     "text": [
      "Loading from Final\\3641355426\\6min_real_N4\n"
     ]
    },
    {
     "name": "stderr",
     "output_type": "stream",
     "text": [
      "Loading through DICOM files: 100%|███████████████████████████████████████████████████████| 1/1 [00:18<00:00, 18.54s/it]\n"
     ]
    },
    {
     "name": "stdout",
     "output_type": "stream",
     "text": [
      "Compiling dictionaries together...\n",
      "Index 0, description None at Final\\3641355426\\6min_real_N4\n",
      "1 unique series IDs were found. Default is index 0, to change use set_index(index)\n",
      "The following ROIs were found\n",
      "Loading images for None at \n",
      " Final\\3641355426\\6min_real_N4\n",
      "\n",
      "6min_synthetic\n",
      "Final\\3641355426\\6min_synthetic\n"
     ]
    },
    {
     "name": "stderr",
     "output_type": "stream",
     "text": [
      "\r",
      "Loading through DICOM files:   0%|                                                               | 0/1 [00:00<?, ?it/s]"
     ]
    },
    {
     "name": "stdout",
     "output_type": "stream",
     "text": [
      "Loading from Final\\3641355426\\6min_synthetic\n"
     ]
    },
    {
     "name": "stderr",
     "output_type": "stream",
     "text": [
      "Loading through DICOM files: 100%|███████████████████████████████████████████████████████| 1/1 [00:02<00:00,  2.70s/it]\n"
     ]
    },
    {
     "name": "stdout",
     "output_type": "stream",
     "text": [
      "Compiling dictionaries together...\n",
      "Index 0, description  at Final\\3641355426\\6min_synthetic\n",
      "1 unique series IDs were found. Default is index 0, to change use set_index(index)\n",
      "The following ROIs were found\n",
      "brainstem\n",
      "glnd_submand_l\n",
      "glnd_submand_r\n",
      "bone_mandible\n",
      "parotid_l\n",
      "parotid_r\n",
      "spinalcord\n",
      "Loading images for  at \n",
      " Final\\3641355426\\6min_synthetic\n",
      "\n",
      "6min_synthetic_N4\n",
      "Final\\3641355426\\6min_synthetic_N4\n"
     ]
    },
    {
     "name": "stderr",
     "output_type": "stream",
     "text": [
      "\r",
      "Loading through DICOM files:   0%|                                                               | 0/1 [00:00<?, ?it/s]"
     ]
    },
    {
     "name": "stdout",
     "output_type": "stream",
     "text": [
      "Loading from Final\\3641355426\\6min_synthetic_N4\n"
     ]
    },
    {
     "name": "stderr",
     "output_type": "stream",
     "text": [
      "Loading through DICOM files: 100%|███████████████████████████████████████████████████████| 1/1 [00:02<00:00,  2.52s/it]\n"
     ]
    },
    {
     "name": "stdout",
     "output_type": "stream",
     "text": [
      "Compiling dictionaries together...\n",
      "Index 0, description  at Final\\3641355426\\6min_synthetic_N4\n",
      "1 unique series IDs were found. Default is index 0, to change use set_index(index)\n",
      "The following ROIs were found\n",
      "brainstem\n",
      "glnd_submand_l\n",
      "glnd_submand_r\n",
      "bone_mandible\n",
      "parotid_l\n",
      "parotid_r\n",
      "spinalcord\n",
      "Loading images for  at \n",
      " Final\\3641355426\\6min_synthetic_N4\n",
      "\n",
      "6013720195\n",
      "2min_real\n",
      "Final\\6013720195\\2min_real\n"
     ]
    },
    {
     "name": "stderr",
     "output_type": "stream",
     "text": [
      "\r",
      "Loading through DICOM files:   0%|                                                               | 0/1 [00:00<?, ?it/s]"
     ]
    },
    {
     "name": "stdout",
     "output_type": "stream",
     "text": [
      "Loading from Final\\6013720195\\2min_real\n"
     ]
    },
    {
     "name": "stderr",
     "output_type": "stream",
     "text": [
      "Loading through DICOM files: 100%|███████████████████████████████████████████████████████| 1/1 [00:03<00:00,  3.54s/it]\n"
     ]
    },
    {
     "name": "stdout",
     "output_type": "stream",
     "text": [
      "Compiling dictionaries together...\n",
      "Index 0, description T2 3D Tra 2min at Final\\6013720195\\2min_real\n",
      "1 unique series IDs were found. Default is index 0, to change use set_index(index)\n",
      "The following ROIs were found\n",
      "brainstem\n",
      "glnd_submand_l\n",
      "glnd_submand_r\n",
      "bone_mandible\n",
      "parotid_l\n",
      "parotid_r\n",
      "spinalcord\n",
      "Loading images for T2 3D Tra 2min at \n",
      " Final\\6013720195\\2min_real\n",
      "\n",
      "6min_real\n",
      "Final\\6013720195\\6min_real\n"
     ]
    },
    {
     "name": "stderr",
     "output_type": "stream",
     "text": [
      "\r",
      "Loading through DICOM files:   0%|                                                               | 0/1 [00:00<?, ?it/s]"
     ]
    },
    {
     "name": "stdout",
     "output_type": "stream",
     "text": [
      "Loading from Final\\6013720195\\6min_real\n"
     ]
    },
    {
     "name": "stderr",
     "output_type": "stream",
     "text": [
      "Loading through DICOM files: 100%|███████████████████████████████████████████████████████| 1/1 [00:03<00:00,  3.55s/it]\n"
     ]
    },
    {
     "name": "stdout",
     "output_type": "stream",
     "text": [
      "Compiling dictionaries together...\n",
      "Index 0, description T2 3D Tra  at Final\\6013720195\\6min_real\n",
      "1 unique series IDs were found. Default is index 0, to change use set_index(index)\n",
      "The following ROIs were found\n",
      "brainstem\n",
      "glnd_submand_l\n",
      "glnd_submand_r\n",
      "bone_mandible\n",
      "parotid_l\n",
      "parotid_r\n",
      "spinalcord\n",
      "Loading images for T2 3D Tra  at \n",
      " Final\\6013720195\\6min_real\n",
      "\n",
      "6min_real_N4\n",
      "Final\\6013720195\\6min_real_N4\n"
     ]
    },
    {
     "name": "stderr",
     "output_type": "stream",
     "text": [
      "\r",
      "Loading through DICOM files:   0%|                                                               | 0/1 [00:00<?, ?it/s]"
     ]
    },
    {
     "name": "stdout",
     "output_type": "stream",
     "text": [
      "Loading from Final\\6013720195\\6min_real_N4\n"
     ]
    },
    {
     "name": "stderr",
     "output_type": "stream",
     "text": [
      "Loading through DICOM files: 100%|███████████████████████████████████████████████████████| 1/1 [00:13<00:00, 13.69s/it]\n"
     ]
    },
    {
     "name": "stdout",
     "output_type": "stream",
     "text": [
      "Compiling dictionaries together...\n",
      "Index 0, description None at Final\\6013720195\\6min_real_N4\n",
      "1 unique series IDs were found. Default is index 0, to change use set_index(index)\n",
      "The following ROIs were found\n",
      "Loading images for None at \n",
      " Final\\6013720195\\6min_real_N4\n",
      "\n",
      "6min_synthetic\n",
      "Final\\6013720195\\6min_synthetic\n"
     ]
    },
    {
     "name": "stderr",
     "output_type": "stream",
     "text": [
      "\r",
      "Loading through DICOM files:   0%|                                                               | 0/1 [00:00<?, ?it/s]"
     ]
    },
    {
     "name": "stdout",
     "output_type": "stream",
     "text": [
      "Loading from Final\\6013720195\\6min_synthetic\n"
     ]
    },
    {
     "name": "stderr",
     "output_type": "stream",
     "text": [
      "Loading through DICOM files: 100%|███████████████████████████████████████████████████████| 1/1 [00:02<00:00,  2.66s/it]\n"
     ]
    },
    {
     "name": "stdout",
     "output_type": "stream",
     "text": [
      "Compiling dictionaries together...\n",
      "Index 0, description  at Final\\6013720195\\6min_synthetic\n",
      "1 unique series IDs were found. Default is index 0, to change use set_index(index)\n",
      "The following ROIs were found\n",
      "brainstem\n",
      "glnd_submand_l\n",
      "glnd_submand_r\n",
      "bone_mandible\n",
      "parotid_l\n",
      "parotid_r\n",
      "spinalcord\n",
      "Loading images for  at \n",
      " Final\\6013720195\\6min_synthetic\n",
      "\n",
      "6min_synthetic_N4\n",
      "Final\\6013720195\\6min_synthetic_N4\n"
     ]
    },
    {
     "name": "stderr",
     "output_type": "stream",
     "text": [
      "\r",
      "Loading through DICOM files:   0%|                                                               | 0/1 [00:00<?, ?it/s]"
     ]
    },
    {
     "name": "stdout",
     "output_type": "stream",
     "text": [
      "Loading from Final\\6013720195\\6min_synthetic_N4\n"
     ]
    },
    {
     "name": "stderr",
     "output_type": "stream",
     "text": [
      "Loading through DICOM files: 100%|███████████████████████████████████████████████████████| 1/1 [00:02<00:00,  2.69s/it]\n"
     ]
    },
    {
     "name": "stdout",
     "output_type": "stream",
     "text": [
      "Compiling dictionaries together...\n",
      "Index 0, description  at Final\\6013720195\\6min_synthetic_N4\n",
      "1 unique series IDs were found. Default is index 0, to change use set_index(index)\n",
      "The following ROIs were found\n",
      "brainstem\n",
      "glnd_submand_l\n",
      "glnd_submand_r\n",
      "bone_mandible\n",
      "parotid_l\n",
      "parotid_r\n",
      "spinalcord\n",
      "Loading images for  at \n",
      " Final\\6013720195\\6min_synthetic_N4\n",
      "\n",
      "7462859887\n",
      "2min_real\n",
      "Final\\7462859887\\2min_real\n"
     ]
    },
    {
     "name": "stderr",
     "output_type": "stream",
     "text": [
      "\r",
      "Loading through DICOM files:   0%|                                                               | 0/1 [00:00<?, ?it/s]"
     ]
    },
    {
     "name": "stdout",
     "output_type": "stream",
     "text": [
      "Loading from Final\\7462859887\\2min_real\n"
     ]
    },
    {
     "name": "stderr",
     "output_type": "stream",
     "text": [
      "Loading through DICOM files: 100%|███████████████████████████████████████████████████████| 1/1 [00:03<00:00,  3.54s/it]\n"
     ]
    },
    {
     "name": "stdout",
     "output_type": "stream",
     "text": [
      "Compiling dictionaries together...\n",
      "Index 0, description T2 3D Tra 2min at Final\\7462859887\\2min_real\n",
      "1 unique series IDs were found. Default is index 0, to change use set_index(index)\n",
      "The following ROIs were found\n",
      "brainstem\n",
      "glnd_submand_l\n",
      "glnd_submand_r\n",
      "bone_mandible\n",
      "parotid_l\n",
      "parotid_r\n",
      "spinalcord\n",
      "Loading images for T2 3D Tra 2min at \n",
      " Final\\7462859887\\2min_real\n",
      "\n",
      "6min_real\n",
      "Final\\7462859887\\6min_real\n"
     ]
    },
    {
     "name": "stderr",
     "output_type": "stream",
     "text": [
      "\r",
      "Loading through DICOM files:   0%|                                                               | 0/1 [00:00<?, ?it/s]"
     ]
    },
    {
     "name": "stdout",
     "output_type": "stream",
     "text": [
      "Loading from Final\\7462859887\\6min_real\n"
     ]
    },
    {
     "name": "stderr",
     "output_type": "stream",
     "text": [
      "Loading through DICOM files: 100%|███████████████████████████████████████████████████████| 1/1 [00:03<00:00,  3.66s/it]\n"
     ]
    },
    {
     "name": "stdout",
     "output_type": "stream",
     "text": [
      "Compiling dictionaries together...\n",
      "Index 0, description T2 3D Tra  at Final\\7462859887\\6min_real\n",
      "1 unique series IDs were found. Default is index 0, to change use set_index(index)\n",
      "The following ROIs were found\n",
      "brainstem\n",
      "glnd_submand_l\n",
      "bone_mandible\n",
      "parotid_l\n",
      "parotid_r\n",
      "spinalcord\n",
      "Loading images for T2 3D Tra  at \n",
      " Final\\7462859887\\6min_real\n",
      "\n",
      "6min_real_N4\n",
      "Final\\7462859887\\6min_real_N4\n"
     ]
    },
    {
     "name": "stderr",
     "output_type": "stream",
     "text": [
      "\r",
      "Loading through DICOM files:   0%|                                                               | 0/1 [00:00<?, ?it/s]"
     ]
    },
    {
     "name": "stdout",
     "output_type": "stream",
     "text": [
      "Loading from Final\\7462859887\\6min_real_N4\n"
     ]
    },
    {
     "name": "stderr",
     "output_type": "stream",
     "text": [
      "Loading through DICOM files: 100%|███████████████████████████████████████████████████████| 1/1 [00:12<00:00, 12.52s/it]\n"
     ]
    },
    {
     "name": "stdout",
     "output_type": "stream",
     "text": [
      "Compiling dictionaries together...\n",
      "Index 0, description None at Final\\7462859887\\6min_real_N4\n",
      "1 unique series IDs were found. Default is index 0, to change use set_index(index)\n",
      "The following ROIs were found\n",
      "Loading images for None at \n",
      " Final\\7462859887\\6min_real_N4\n",
      "\n",
      "6min_synthetic\n",
      "Final\\7462859887\\6min_synthetic\n"
     ]
    },
    {
     "name": "stderr",
     "output_type": "stream",
     "text": [
      "\r",
      "Loading through DICOM files:   0%|                                                               | 0/1 [00:00<?, ?it/s]"
     ]
    },
    {
     "name": "stdout",
     "output_type": "stream",
     "text": [
      "Loading from Final\\7462859887\\6min_synthetic\n"
     ]
    },
    {
     "name": "stderr",
     "output_type": "stream",
     "text": [
      "Loading through DICOM files: 100%|███████████████████████████████████████████████████████| 1/1 [00:02<00:00,  2.68s/it]\n"
     ]
    },
    {
     "name": "stdout",
     "output_type": "stream",
     "text": [
      "Compiling dictionaries together...\n",
      "Index 0, description  at Final\\7462859887\\6min_synthetic\n",
      "1 unique series IDs were found. Default is index 0, to change use set_index(index)\n",
      "The following ROIs were found\n",
      "brainstem\n",
      "glnd_submand_l\n",
      "glnd_submand_r\n",
      "bone_mandible\n",
      "parotid_l\n",
      "parotid_r\n",
      "spinalcord\n",
      "Loading images for  at \n",
      " Final\\7462859887\\6min_synthetic\n",
      "\n",
      "6min_synthetic_N4\n",
      "Final\\7462859887\\6min_synthetic_N4\n"
     ]
    },
    {
     "name": "stderr",
     "output_type": "stream",
     "text": [
      "\r",
      "Loading through DICOM files:   0%|                                                               | 0/1 [00:00<?, ?it/s]"
     ]
    },
    {
     "name": "stdout",
     "output_type": "stream",
     "text": [
      "Loading from Final\\7462859887\\6min_synthetic_N4\n"
     ]
    },
    {
     "name": "stderr",
     "output_type": "stream",
     "text": [
      "Loading through DICOM files: 100%|███████████████████████████████████████████████████████| 1/1 [00:02<00:00,  2.57s/it]\n"
     ]
    },
    {
     "name": "stdout",
     "output_type": "stream",
     "text": [
      "Compiling dictionaries together...\n",
      "Index 0, description  at Final\\7462859887\\6min_synthetic_N4\n",
      "1 unique series IDs were found. Default is index 0, to change use set_index(index)\n",
      "The following ROIs were found\n",
      "brainstem\n",
      "glnd_submand_l\n",
      "glnd_submand_r\n",
      "bone_mandible\n",
      "parotid_l\n",
      "parotid_r\n",
      "spinalcord\n",
      "Loading images for  at \n",
      " Final\\7462859887\\6min_synthetic_N4\n",
      "\n",
      "Wall time: 48min 55s\n"
     ]
    }
   ],
   "source": [
    "%%time\n",
    "\n",
    "dicom_path = \"Final\"\n",
    "output_path = \"nifti_output\"\n",
    "\n",
    "# make nifti output folder if it doesnt exist \n",
    "if not os.path.exists(output_path):\n",
    "    os.makedirs(output_path)\n",
    "    \n",
    "MRNs = os.listdir(dicom_path) \n",
    "\n",
    "for MRN in MRNs:\n",
    "    print(MRN)\n",
    "    \n",
    "    MRN_folder_path = os.path.join(dicom_path, MRN)\n",
    "\n",
    "    output_folder = os.path.join(output_path, MRN)\n",
    "    if not os.path.exists(output_folder):\n",
    "        os.makedirs(output_folder)\n",
    "\n",
    "    image_folders = os.listdir(MRN_folder_path) \n",
    "    \n",
    "    for image_folder in image_folders:\n",
    "        print(image_folder)\n",
    "        image_folder_path = os.path.join(MRN_folder_path, image_folder)\n",
    "        print(image_folder_path)\n",
    "        \n",
    "        Dicom_reader = DicomReaderWriter(description='Examples', series_instances_dictionary = {}) # instantiate\n",
    "        Dicom_reader.walk_through_folders(image_folder_path)\n",
    "        all_rois = Dicom_reader.return_rois(print_rois=True)\n",
    "        \n",
    "        Dicom_reader.get_images()\n",
    "        image = Dicom_reader.ArrayDicom # image array\n",
    "        dicom_sitk_handle = Dicom_reader.dicom_handle # SimpleITK image handle\n",
    "        sitk.WriteImage(dicom_sitk_handle, os.path.join(output_folder, image_folder + '_image.nii.gz'))\n",
    "        \n",
    "        for num, roi in enumerate(all_rois):\n",
    "            Contour_Names = [roi]\n",
    "            Dicom_reader.set_contour_names_and_associations(Contour_Names=Contour_Names)\n",
    "            Dicom_reader.get_images_and_mask()\n",
    "            mask = Dicom_reader.mask # mask array\n",
    "            mask_sitk_handle = Dicom_reader.annotation_handle # SimpleITK mask handle\n",
    "            sitk.WriteImage(mask_sitk_handle, os.path.join(output_folder, image_folder + '_' + roi + '.nii.gz'))\n",
    "\n"
   ]
  },
  {
   "cell_type": "code",
   "execution_count": null,
   "id": "bdd2a278",
   "metadata": {},
   "outputs": [],
   "source": []
  },
  {
   "cell_type": "markdown",
   "id": "b1549c0d",
   "metadata": {},
   "source": [
    "## Generate External Masks\n",
    "\n",
    "Once we have the nifti files, can create external mask ROI based on 2-min image that we will use in later scripts."
   ]
  },
  {
   "cell_type": "code",
   "execution_count": 3,
   "id": "5774d793",
   "metadata": {},
   "outputs": [],
   "source": [
    "from skimage.filters import threshold_otsu\n",
    "from skimage.morphology import binary_closing, closing, cube"
   ]
  },
  {
   "cell_type": "code",
   "execution_count": 4,
   "id": "4af47efc",
   "metadata": {},
   "outputs": [],
   "source": [
    "#helper function\n",
    "\n",
    "def display_slices(image, mask, skip=1):\n",
    "    \"\"\"\n",
    "    Displays a series of slices in z-direction that contains the segmented regions of interest.\n",
    "    Ensures all contours are displayed in consistent and different colors.\n",
    "        Parameters:\n",
    "            image (array-like): Numpy array of image.\n",
    "            mask (array-like): Numpy array of mask.\n",
    "            skip (int): Only print every nth slice, i.e. if 3 only print every 3rd slice, default 1.\n",
    "        Returns:\n",
    "            None (series of in-line plots).\n",
    "    \"\"\"\n",
    "\n",
    "    slice_locations = np.unique(np.where(mask != 0)[0]) # get indexes for where there is a contour present \n",
    "    slice_start = slice_locations[0] # first slice of contour \n",
    "    slice_end = slice_locations[len(slice_locations)-1] # last slice of contour\n",
    "    \n",
    "    counter = 1\n",
    "    \n",
    "    for img_arr, contour_arr in zip(image[slice_start:slice_end+1], mask[slice_start:slice_end+1]): # plot the slices with contours overlayed ontop\n",
    "        if counter % skip == 0: # if current slice is divisible by desired skip amount \n",
    "            masked_contour_arr = np.ma.masked_where(contour_arr == 0, contour_arr)\n",
    "            plt.imshow(img_arr, cmap='gray', interpolation='none')\n",
    "            plt.imshow(masked_contour_arr, cmap='cool', interpolation='none', alpha=0.9, vmin = 1, vmax = np.amax(mask)) # vmax is set as total number of contours so same colors can be displayed for each slice\n",
    "            plt.show()\n",
    "        counter += 1"
   ]
  },
  {
   "cell_type": "code",
   "execution_count": 5,
   "id": "d806803f",
   "metadata": {
    "scrolled": true
   },
   "outputs": [
    {
     "name": "stdout",
     "output_type": "stream",
     "text": [
      "1150757675\n",
      "1389864037\n",
      "1401204987\n",
      "1787293395\n",
      "1945523813\n",
      "1945979999\n",
      "2000997454\n",
      "2212371295\n",
      "2278732249\n",
      "2326610791\n",
      "2589026023\n",
      "3244262639\n",
      "3337525186\n",
      "3376193121\n",
      "3376859407\n",
      "3641355426\n",
      "6013720195\n",
      "7462859887\n",
      "Wall time: 3min 56s\n"
     ]
    }
   ],
   "source": [
    "%%time\n",
    "\n",
    "nifti_path = \"nifti_output\"\n",
    "\n",
    "MRN_folders = os.listdir(nifti_path)\n",
    "\n",
    "for MRN_folder in MRN_folders:\n",
    "    print(MRN_folder)\n",
    "    MRN_folder_path = os.path.join(nifti_path, MRN_folder)\n",
    "    \n",
    "    gt_file = os.path.join(MRN_folder_path, \"2min_real_image.nii.gz\")\n",
    "    gt_sitk = sitk.ReadImage(gt_file)\n",
    "    gt_image = sitk.GetArrayFromImage(gt_sitk)\n",
    "    #print(gt_image.shape)\n",
    "    \n",
    "    # get mask\n",
    "    thresh = threshold_otsu(gt_image)\n",
    "    binary_close = closing(gt_image > thresh, cube(100))\n",
    "    binary_close = binary_close.astype(int)\n",
    "    \n",
    "    #display_slices(gt_image, binary_close, skip=45) # debug \n",
    "    \n",
    "    #convert to nifti\n",
    "    binary_close_sitk = sitk.GetImageFromArray(binary_close)\n",
    "    binary_close_sitk.CopyInformation(gt_sitk)\n",
    "    \n",
    "\n",
    "    out_file_name = \"2min_real_external.nii.gz\"\n",
    "    out_file_path = os.path.join(MRN_folder_path, out_file_name)\n",
    "    \n",
    "    sitk.WriteImage(binary_close_sitk, out_file_path) # uncomment when you want to write the file "
   ]
  },
  {
   "cell_type": "code",
   "execution_count": null,
   "id": "54fe76eb",
   "metadata": {},
   "outputs": [],
   "source": []
  },
  {
   "cell_type": "markdown",
   "id": "f6f55b5e",
   "metadata": {},
   "source": [
    "## Generate sharpened images "
   ]
  },
  {
   "cell_type": "code",
   "execution_count": 6,
   "id": "0f7417f7",
   "metadata": {},
   "outputs": [],
   "source": [
    "import cv2"
   ]
  },
  {
   "cell_type": "code",
   "execution_count": 7,
   "id": "c9aab14f",
   "metadata": {},
   "outputs": [],
   "source": [
    "# helper function\n",
    "\n",
    "def display_slices_ss(image1, image2, skip=1):\n",
    "    \"\"\"\n",
    "    Displays a series of slices in z-direction that contains the segmented regions of interest.\n",
    "    Ensures all contours are displayed in consistent and different colors.\n",
    "        Parameters:\n",
    "            image (array-like): Numpy array of image.\n",
    "            mask (array-like): Numpy array of mask.\n",
    "            skip (int): Only print every nth slice, i.e. if 3 only print every 3rd slice, default 1.\n",
    "        Returns:\n",
    "            None (series of in-line plots).\n",
    "    \"\"\"\n",
    "\n",
    "    slice_locations = np.unique(np.where(image1 != 0)[0]) # get indexes for where there is a contour present \n",
    "    slice_start = slice_locations[0] # first slice of contour \n",
    "    slice_end = slice_locations[len(slice_locations)-1] # last slice of contour\n",
    "    \n",
    "    counter = 1\n",
    "    \n",
    "    for img_arr1, img_arr2 in zip(image1[slice_start:slice_end+1], image2[slice_start:slice_end+1]): # plot the slices with contours overlayed ontop\n",
    "        if counter % skip == 0: # if current slice is divisible by desired skip amount \n",
    "            print(counter)\n",
    "            fig, (ax1, ax2) = plt.subplots(1,2, gridspec_kw = {'wspace':0, 'hspace':0}, figsize=(12,8))\n",
    "            \n",
    "            img_arr1 = z_norm(img_arr1)\n",
    "            img_arr2 = z_norm(img_arr2)\n",
    "            \n",
    "            img_arr1 = crop_center(img_arr1, 350, 350)\n",
    "            img_arr2 = crop_center(img_arr2, 350, 350)\n",
    "            \n",
    "            \n",
    "            ax1.imshow(img_arr1, cmap='gray', interpolation='none', vmin = np.min(img_arr1), vmax = np.percentile(img_arr1, 99))\n",
    "            ax1.set_xticks([])\n",
    "            ax1.set_yticks([])\n",
    "            ax2.imshow(img_arr2, cmap='gray', interpolation='none', vmin = np.min(img_arr1), vmax = np.percentile(img_arr1, 99))\n",
    "            ax2.set_xticks([])\n",
    "            ax2.set_yticks([])\n",
    "            plt.show()\n",
    "        counter += 1"
   ]
  },
  {
   "cell_type": "code",
   "execution_count": 8,
   "id": "9856b1f3",
   "metadata": {},
   "outputs": [
    {
     "name": "stdout",
     "output_type": "stream",
     "text": [
      "1150757675\n",
      "1389864037\n",
      "1401204987\n",
      "1787293395\n",
      "1945523813\n",
      "1945979999\n",
      "2000997454\n",
      "2212371295\n",
      "2278732249\n",
      "2326610791\n",
      "2589026023\n",
      "3244262639\n",
      "3337525186\n",
      "3376193121\n",
      "3376859407\n",
      "3641355426\n",
      "6013720195\n",
      "7462859887\n",
      "Wall time: 5min 25s\n"
     ]
    }
   ],
   "source": [
    "%%time\n",
    "\n",
    "nifti_path = \"nifti_output\"\n",
    "\n",
    "MRN_folders = os.listdir(nifti_path)\n",
    "\n",
    "kernel = np.array([[0, -0.5, 0], # can play around with this, has to sum to 1, deafault middle value is 5 \n",
    "                   [-0.5, 3,-0.5],\n",
    "                   [0, -0.5, 0]])\n",
    "\n",
    "for MRN_folder in MRN_folders:\n",
    "    print(MRN_folder)\n",
    "    MRN_folder_path = os.path.join(nifti_path, MRN_folder)\n",
    "    \n",
    "    gt_file = os.path.join(MRN_folder_path, \"6min_synthetic_N4_image.nii.gz\")\n",
    "    gt_sitk = sitk.ReadImage(gt_file)\n",
    "    gt_image = sitk.GetArrayFromImage(gt_sitk)\n",
    "    #print(gt_image.shape)\n",
    "    \n",
    "    # NOW NEED TO APPLY SHARPENING OPERATION TO EACH SLICE INDIVIDUALLY \n",
    "    gt_image_sharp = np.asarray([cv2.filter2D(src=x, ddepth=-1, kernel=kernel) for x in gt_image])\n",
    "    #print(gt_image_sharp.shape)\n",
    "    gt_image_sharp_sitk = sitk.GetImageFromArray(gt_image_sharp)\n",
    "    gt_image_sharp_sitk.CopyInformation(gt_sitk)\n",
    "    \n",
    "    #display_slices_ss(gt_image, gt_image_sharp)\n",
    "\n",
    "    out_file_name = \"6min_synthetic_N4_image_sharpened.nii.gz\"\n",
    "    out_file_path = os.path.join(MRN_folder_path, out_file_name)\n",
    "    \n",
    "    sitk.WriteImage(gt_image_sharp_sitk, out_file_path)"
   ]
  },
  {
   "cell_type": "code",
   "execution_count": null,
   "id": "bf5a7bc2",
   "metadata": {},
   "outputs": [],
   "source": []
  }
 ],
 "metadata": {
  "kernelspec": {
   "display_name": "Python 3 (ipykernel)",
   "language": "python",
   "name": "python3"
  },
  "language_info": {
   "codemirror_mode": {
    "name": "ipython",
    "version": 3
   },
   "file_extension": ".py",
   "mimetype": "text/x-python",
   "name": "python",
   "nbconvert_exporter": "python",
   "pygments_lexer": "ipython3",
   "version": "3.9.7"
  }
 },
 "nbformat": 4,
 "nbformat_minor": 5
}
